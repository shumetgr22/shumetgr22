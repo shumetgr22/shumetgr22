{
  "nbformat": 4,
  "nbformat_minor": 0,
  "metadata": {
    "colab": {
      "provenance": []
    },
    "kernelspec": {
      "name": "python3",
      "display_name": "Python 3"
    },
    "language_info": {
      "name": "python"
    }
  },
  "cells": [
    {
      "cell_type": "code",
      "execution_count": null,
      "metadata": {
        "id": "6LMCSzAC-8Bc"
      },
      "outputs": [],
      "source": [
        "# importing neccesary libraries\n",
        "import numpy as np                    # importing numpy libary\n",
        "import pandas as pd                   # importing pandas libary\n",
        "\n",
        "\n"
      ]
    },
    {
      "cell_type": "code",
      "source": [
        "# Exercise 1\n",
        "# Create row and column vectors using input method\n",
        "row_vector = np.array(input(\"Enter space-separated values for row vector: \").split(), dtype=float)          # entering row vectors\n",
        "column_vector = np.array(input(\"Enter space-separated values for column vector: \").split(), dtype=float)    # entering column vectors"
      ],
      "metadata": {
        "id": "teVUM5qi_-P1",
        "colab": {
          "base_uri": "https://localhost:8080/"
        },
        "outputId": "287ca606-fc6f-45dd-cc1d-48869ce6f6f4"
      },
      "execution_count": null,
      "outputs": [
        {
          "name": "stdout",
          "output_type": "stream",
          "text": [
            "Enter space-separated values for row vector: 4 2 6\n",
            "Enter space-separated values for column vector: 5 4 2\n"
          ]
        }
      ]
    },
    {
      "cell_type": "code",
      "source": [
        "row_vector                                     # printing row vector using input method"
      ],
      "metadata": {
        "id": "sOt3_Oy1O8rk",
        "colab": {
          "base_uri": "https://localhost:8080/"
        },
        "outputId": "23072c91-8449-4e28-eb82-1796797b5297"
      },
      "execution_count": null,
      "outputs": [
        {
          "output_type": "execute_result",
          "data": {
            "text/plain": [
              "array([4., 2., 6.])"
            ]
          },
          "metadata": {},
          "execution_count": 4
        }
      ]
    },
    {
      "cell_type": "code",
      "source": [
        "\n",
        "column_vector                                  # printing column vector using input method"
      ],
      "metadata": {
        "id": "IYi_oDMaBzA0",
        "colab": {
          "base_uri": "https://localhost:8080/"
        },
        "outputId": "76281edb-6b24-42e9-f98e-b9fc975056c8"
      },
      "execution_count": null,
      "outputs": [
        {
          "output_type": "execute_result",
          "data": {
            "text/plain": [
              "array([5., 4., 2.])"
            ]
          },
          "metadata": {},
          "execution_count": 5
        }
      ]
    },
    {
      "cell_type": "code",
      "source": [
        "# Manually create row and column vectors\n",
        "row_vector_manual = np.array([4, 7, 3])\n",
        "column_vector_manual = np.array([[2], [6], [3]])"
      ],
      "metadata": {
        "id": "TutvG3z_fkGn"
      },
      "execution_count": null,
      "outputs": []
    },
    {
      "cell_type": "code",
      "source": [
        "row_vector_manual                              # printing row vector using manual method"
      ],
      "metadata": {
        "colab": {
          "base_uri": "https://localhost:8080/"
        },
        "id": "FSeNK8rkf6oI",
        "outputId": "ebf63aef-f6d7-43d7-b279-fe11980d9600"
      },
      "execution_count": null,
      "outputs": [
        {
          "output_type": "execute_result",
          "data": {
            "text/plain": [
              "array([4, 7, 3])"
            ]
          },
          "metadata": {},
          "execution_count": 7
        }
      ]
    },
    {
      "cell_type": "code",
      "source": [
        "column_vector_manual                           # printing column vector using manual method"
      ],
      "metadata": {
        "colab": {
          "base_uri": "https://localhost:8080/"
        },
        "id": "RnJ_oeH8gAUz",
        "outputId": "78df720c-3f7f-4755-e386-75711e160bc5"
      },
      "execution_count": null,
      "outputs": [
        {
          "output_type": "execute_result",
          "data": {
            "text/plain": [
              "array([[2],\n",
              "       [6],\n",
              "       [3]])"
            ]
          },
          "metadata": {},
          "execution_count": 8
        }
      ]
    },
    {
      "cell_type": "code",
      "source": [
        "\n",
        "# Exercise 2\n",
        "# Create a 5x5 matrix using input method\n",
        "a = np.zeros((5, 5))                                                               # initalize the row and column of matrix\n",
        "for i in range(5):                                                                 # iterates the number of rows form first to fifth\n",
        "    a[i] = np.array(input(f\"Enter values for row {i+1}: \").split(), dtype=float)   # splits the numbers by spacing\n"
      ],
      "metadata": {
        "id": "G-AGeOtSBw86",
        "colab": {
          "base_uri": "https://localhost:8080/"
        },
        "outputId": "6aa22c51-be38-48bd-8a99-98c22663dc5e"
      },
      "execution_count": null,
      "outputs": [
        {
          "name": "stdout",
          "output_type": "stream",
          "text": [
            "Enter values for row 1: 6 8 9 10 7\n",
            "Enter values for row 2: 4 6 2 4 10\n",
            "Enter values for row 3: 7 9 8 7 8\n",
            "Enter values for row 4: 6 2 1 4 2\n",
            "Enter values for row 5: 9 7 8 7 2\n"
          ]
        }
      ]
    },
    {
      "cell_type": "code",
      "source": [
        "a                                                                                  # printing the matrix a"
      ],
      "metadata": {
        "id": "JZ9MTtcQDPo0",
        "colab": {
          "base_uri": "https://localhost:8080/"
        },
        "outputId": "2a5a7adb-f68c-422e-f30a-870a5229e9d5"
      },
      "execution_count": null,
      "outputs": [
        {
          "output_type": "execute_result",
          "data": {
            "text/plain": [
              "array([[ 6.,  8.,  9., 10.,  7.],\n",
              "       [ 4.,  6.,  2.,  4., 10.],\n",
              "       [ 7.,  9.,  8.,  7.,  8.],\n",
              "       [ 6.,  2.,  1.,  4.,  2.],\n",
              "       [ 9.,  7.,  8.,  7.,  2.]])"
            ]
          },
          "metadata": {},
          "execution_count": 85
        }
      ]
    },
    {
      "cell_type": "code",
      "source": [
        "# Manually create a 5x5 matrix                                                    # inserting the elements of matrix manually\n",
        "b = np.array([[16, 12, 18, 11, 5],\n",
        "                     [16, 17, 12, 9, 10],\n",
        "                     [18, 17, 16, 7, 5],\n",
        "                     [19, 17, 16, 9, 10],\n",
        "                     [16, 16, 8, 7, 9]])"
      ],
      "metadata": {
        "id": "2dFLkUd8Cin1"
      },
      "execution_count": null,
      "outputs": []
    },
    {
      "cell_type": "code",
      "source": [
        "b                                                                                # printing the matrix b"
      ],
      "metadata": {
        "id": "r8gyyG3HJgUL",
        "colab": {
          "base_uri": "https://localhost:8080/"
        },
        "outputId": "3482c0a5-28e6-4f49-e11f-697d1113377a"
      },
      "execution_count": null,
      "outputs": [
        {
          "output_type": "execute_result",
          "data": {
            "text/plain": [
              "array([[16, 12, 18, 11,  5],\n",
              "       [16, 17, 12,  9, 10],\n",
              "       [18, 17, 16,  7,  5],\n",
              "       [19, 17, 16,  9, 10],\n",
              "       [16, 16,  8,  7,  9]])"
            ]
          },
          "metadata": {},
          "execution_count": 88
        }
      ]
    },
    {
      "cell_type": "code",
      "source": [
        "# Exercise 3\n",
        "third_row =a[2]                                                                  # printing the third row of matrix a and 2 indicates third row\n",
        "third_row\n"
      ],
      "metadata": {
        "id": "75UUGCryAEqc",
        "colab": {
          "base_uri": "https://localhost:8080/"
        },
        "outputId": "cec2ad59-71b3-486e-cb3a-74afb38739c2"
      },
      "execution_count": null,
      "outputs": [
        {
          "output_type": "execute_result",
          "data": {
            "text/plain": [
              "array([7., 9., 8., 7., 8.])"
            ]
          },
          "metadata": {},
          "execution_count": 89
        }
      ]
    },
    {
      "cell_type": "code",
      "source": [
        "# Exercise 4\n",
        "fourth_column = a[:, 3]                                                          # printing the fourth column of matrix a 3 indicates the fourth column"
      ],
      "metadata": {
        "id": "NAfjB_JRLZ7n"
      },
      "execution_count": null,
      "outputs": []
    },
    {
      "cell_type": "code",
      "source": [
        "fourth_column"
      ],
      "metadata": {
        "id": "sY-GnHypL7Hp",
        "colab": {
          "base_uri": "https://localhost:8080/"
        },
        "outputId": "b9830ccb-2549-4fdc-8ad8-70e513341277"
      },
      "execution_count": null,
      "outputs": [
        {
          "output_type": "execute_result",
          "data": {
            "text/plain": [
              "array([10.,  4.,  7.,  4.,  7.])"
            ]
          },
          "metadata": {},
          "execution_count": 91
        }
      ]
    },
    {
      "cell_type": "code",
      "source": [
        "# Exercise 5\n",
        "sorted_matrix_row_wise = np.sort(a, axis=1)                                      # sorting matrix a row wise\n",
        "sorted_matrix_column_wise = np.sort(a, axis=0)                                   # sorting matrix a column wise"
      ],
      "metadata": {
        "id": "tvizNmQyL4iR"
      },
      "execution_count": null,
      "outputs": []
    },
    {
      "cell_type": "code",
      "source": [
        "sorted_matrix_row_wise                                                           # printing sorted matrix a row wise"
      ],
      "metadata": {
        "id": "faqGY-MDOb2z",
        "colab": {
          "base_uri": "https://localhost:8080/"
        },
        "outputId": "22dcceed-79b0-42ed-ad5f-fdf8931ecdeb"
      },
      "execution_count": null,
      "outputs": [
        {
          "output_type": "execute_result",
          "data": {
            "text/plain": [
              "array([[ 6.,  7.,  8.,  9., 10.],\n",
              "       [ 2.,  4.,  4.,  6., 10.],\n",
              "       [ 7.,  7.,  8.,  8.,  9.],\n",
              "       [ 1.,  2.,  2.,  4.,  6.],\n",
              "       [ 2.,  7.,  7.,  8.,  9.]])"
            ]
          },
          "metadata": {},
          "execution_count": 129
        }
      ]
    },
    {
      "cell_type": "code",
      "source": [
        "sorted_matrix_column_wise                                                        # printing sorted matrix a column wise"
      ],
      "metadata": {
        "id": "QJdai5CoOm-q",
        "colab": {
          "base_uri": "https://localhost:8080/"
        },
        "outputId": "74858f03-e909-4c1b-cfe2-163a94a1ff7e"
      },
      "execution_count": null,
      "outputs": [
        {
          "output_type": "execute_result",
          "data": {
            "text/plain": [
              "array([[ 4.,  2.,  1.,  4.,  2.],\n",
              "       [ 6.,  6.,  2.,  4.,  2.],\n",
              "       [ 6.,  7.,  8.,  7.,  7.],\n",
              "       [ 7.,  8.,  8.,  7.,  8.],\n",
              "       [ 9.,  9.,  9., 10., 10.]])"
            ]
          },
          "metadata": {},
          "execution_count": 94
        }
      ]
    },
    {
      "cell_type": "code",
      "source": [
        "# Exercise 6\n",
        "import numpy as np\n",
        "b = np.copy(a)                                                         # creating matrix b\n",
        "b [b > 2] *= 10                                                        # multiplying elements of a matrix by 10 which are greater than 2"
      ],
      "metadata": {
        "id": "qzf83hXxPFku"
      },
      "execution_count": null,
      "outputs": []
    },
    {
      "cell_type": "code",
      "source": [
        "b                                                                      # printing matrix b"
      ],
      "metadata": {
        "id": "S9IE-Vqzd6sh",
        "colab": {
          "base_uri": "https://localhost:8080/"
        },
        "outputId": "3c77ff92-9b5a-46b1-a564-814cebcfc14a"
      },
      "execution_count": null,
      "outputs": [
        {
          "output_type": "execute_result",
          "data": {
            "text/plain": [
              "array([[ 60.,  80.,  90., 100.,  70.],\n",
              "       [ 40.,  60.,   2.,  40., 100.],\n",
              "       [ 70.,  90.,  80.,  70.,  80.],\n",
              "       [ 60.,   2.,   1.,  40.,   2.],\n",
              "       [ 90.,  70.,  80.,  70.,   2.]])"
            ]
          },
          "metadata": {},
          "execution_count": 96
        }
      ]
    },
    {
      "cell_type": "code",
      "source": [
        "# Exercise 7\n",
        "matrix_sum = a + b                                                      # summing the matrix a and b\n",
        "matrix_sum"
      ],
      "metadata": {
        "id": "Fdu35eOLPF2f",
        "colab": {
          "base_uri": "https://localhost:8080/"
        },
        "outputId": "111bfec9-9e8e-4b36-84d1-e3e8b5320b18"
      },
      "execution_count": null,
      "outputs": [
        {
          "output_type": "execute_result",
          "data": {
            "text/plain": [
              "array([[ 66.,  88.,  99., 110.,  77.],\n",
              "       [ 44.,  66.,   4.,  44., 110.],\n",
              "       [ 77.,  99.,  88.,  77.,  88.],\n",
              "       [ 66.,   4.,   2.,  44.,   4.],\n",
              "       [ 99.,  77.,  88.,  77.,   4.]])"
            ]
          },
          "metadata": {},
          "execution_count": 97
        }
      ]
    },
    {
      "cell_type": "code",
      "source": [
        "# Exercise 8\n",
        "matrix_difference = a-b                                       # calculating the difference of matrix a and matrix b"
      ],
      "metadata": {
        "id": "1XM4HoCaP1TS"
      },
      "execution_count": null,
      "outputs": []
    },
    {
      "cell_type": "code",
      "source": [
        "matrix_difference                                             # printing the difference of matrix a and matrix b"
      ],
      "metadata": {
        "id": "C68SZTbsP3rE",
        "colab": {
          "base_uri": "https://localhost:8080/"
        },
        "outputId": "d3cba928-0499-44a3-9ccb-221bbc7bac03"
      },
      "execution_count": null,
      "outputs": [
        {
          "output_type": "execute_result",
          "data": {
            "text/plain": [
              "array([[-54., -72., -81., -90., -63.],\n",
              "       [-36., -54.,   0., -36., -90.],\n",
              "       [-63., -81., -72., -63., -72.],\n",
              "       [-54.,   0.,   0., -36.,   0.],\n",
              "       [-81., -63., -72., -63.,   0.]])"
            ]
          },
          "metadata": {},
          "execution_count": 99
        }
      ]
    },
    {
      "cell_type": "code",
      "source": [
        "# Exercise 9\n",
        "element_wise_product = a * b                             # calculating element wise multiplication of matrix a and matrix b\n",
        "matrix_multiplication = np.dot(a, b)                     # calculating product between matrix a and matrix b"
      ],
      "metadata": {
        "id": "u4j3B8SSP_4u"
      },
      "execution_count": null,
      "outputs": []
    },
    {
      "cell_type": "code",
      "source": [
        "element_wise_product                                     # printing element wise product of matrix a and matrix b"
      ],
      "metadata": {
        "id": "nkS0ycuJQPve",
        "colab": {
          "base_uri": "https://localhost:8080/"
        },
        "outputId": "aaf72f1a-830f-4232-8169-b6c00c55ca84"
      },
      "execution_count": null,
      "outputs": [
        {
          "output_type": "execute_result",
          "data": {
            "text/plain": [
              "array([[ 360.,  640.,  810., 1000.,  490.],\n",
              "       [ 160.,  360.,    4.,  160., 1000.],\n",
              "       [ 490.,  810.,  640.,  490.,  640.],\n",
              "       [ 360.,    4.,    1.,  160.,    4.],\n",
              "       [ 810.,  490.,  640.,  490.,    4.]])"
            ]
          },
          "metadata": {},
          "execution_count": 101
        }
      ]
    },
    {
      "cell_type": "code",
      "source": [
        "matrix_multiplication                                     # printing matrix multiplication of matrix a and matrix b"
      ],
      "metadata": {
        "id": "0rtFbM3zQS30",
        "colab": {
          "base_uri": "https://localhost:8080/"
        },
        "outputId": "e0f89390-6f19-449c-fe31-ea35351e8013"
      },
      "execution_count": null,
      "outputs": [
        {
          "output_type": "execute_result",
          "data": {
            "text/plain": [
              "array([[2540., 2280., 1846., 2440., 1974.],\n",
              "       [1760., 1568., 1336., 1640., 1068.],\n",
              "       [2480., 2394., 1935., 2460., 2060.],\n",
              "       [ 930.,  838.,  788., 1050.,  712.],\n",
              "       [1980., 2014., 1631., 2160., 1988.]])"
            ]
          },
          "metadata": {},
          "execution_count": 102
        }
      ]
    },
    {
      "cell_type": "code",
      "source": [
        "# Exercise 10\n",
        "a /= 18                                                     # dividing each element of matrix a by 18\n",
        "b /= 18                                                     # dividing each element of matrix b by 18"
      ],
      "metadata": {
        "id": "Fawtlg9qSN7E"
      },
      "execution_count": null,
      "outputs": []
    },
    {
      "cell_type": "code",
      "source": [
        "a                                                                       # printing matrix a divided by 18"
      ],
      "metadata": {
        "id": "OBTzNXn-SOvW",
        "colab": {
          "base_uri": "https://localhost:8080/"
        },
        "outputId": "8ae3078e-0638-48ab-d283-6b6e4e92c546"
      },
      "execution_count": null,
      "outputs": [
        {
          "output_type": "execute_result",
          "data": {
            "text/plain": [
              "array([[0.33333333, 0.44444444, 0.5       , 0.55555556, 0.38888889],\n",
              "       [0.22222222, 0.33333333, 0.11111111, 0.22222222, 0.55555556],\n",
              "       [0.38888889, 0.5       , 0.44444444, 0.38888889, 0.44444444],\n",
              "       [0.33333333, 0.11111111, 0.05555556, 0.22222222, 0.11111111],\n",
              "       [0.5       , 0.38888889, 0.44444444, 0.38888889, 0.11111111]])"
            ]
          },
          "metadata": {},
          "execution_count": 106
        }
      ]
    },
    {
      "cell_type": "code",
      "source": [
        "b                                                                       # printing matrix b divided by 18"
      ],
      "metadata": {
        "id": "eaIQXCjXSaUh",
        "colab": {
          "base_uri": "https://localhost:8080/"
        },
        "outputId": "ed5e49b8-9087-4b20-f041-ef2b4871f4e5"
      },
      "execution_count": null,
      "outputs": [
        {
          "output_type": "execute_result",
          "data": {
            "text/plain": [
              "array([[3.33333333, 4.44444444, 5.        , 5.55555556, 3.88888889],\n",
              "       [2.22222222, 3.33333333, 0.11111111, 2.22222222, 5.55555556],\n",
              "       [3.88888889, 5.        , 4.44444444, 3.88888889, 4.44444444],\n",
              "       [3.33333333, 0.11111111, 0.05555556, 2.22222222, 0.11111111],\n",
              "       [5.        , 3.88888889, 4.44444444, 3.88888889, 0.11111111]])"
            ]
          },
          "metadata": {},
          "execution_count": 105
        }
      ]
    },
    {
      "cell_type": "code",
      "source": [
        "\n",
        "# Exercise 11\n",
        "inverse_a = np.linalg.inv(a)                                        # calculating the inverse of matrix a\n",
        "rank_a = np.linalg.matrix_rank(a)                                   # calculating the rank of matrix a\n",
        "condition_number_a = np.linalg.cond(a)                              # calculating the conditional number of matrix a\n",
        "singular_values_a = np.linalg.svd(a)                                # calculating the singular value of matrix a\n",
        "norm_a = np.linalg.norm(a)                                          # calculating the norm of matrix a\n",
        "\n",
        "inverse_b = np.linalg.inv(b)                                        # calculating the inverse of matrix b\n",
        "rank_b = np.linalg.matrix_rank(b)                                   # calculating the rank of matrix b\n",
        "condition_number_b = np.linalg.cond(b)                              # calculating the conditional number of matrix b\n",
        "singular_values_b = np.linalg.svd(b)                                # calculating the singular values of matrix b\n",
        "norm_b = np.linalg.norm(b)                                          # calculating the norm of matrix b\n"
      ],
      "metadata": {
        "id": "iJBAKxncMYza"
      },
      "execution_count": null,
      "outputs": []
    },
    {
      "cell_type": "code",
      "source": [
        "inverse_a                                                          # printing the inverse of matrix a"
      ],
      "metadata": {
        "id": "_V_cThWLSq7l",
        "colab": {
          "base_uri": "https://localhost:8080/"
        },
        "outputId": "4558f9d7-ab08-40a9-f5d2-47da85c1db48"
      },
      "execution_count": null,
      "outputs": [
        {
          "output_type": "execute_result",
          "data": {
            "text/plain": [
              "array([[ -4.92631579, -12.97894737,  20.74736842,  12.69473684,\n",
              "        -13.54736842],\n",
              "       [  7.01052632,  44.43157895, -65.17894737, -36.75789474,\n",
              "         50.77894737],\n",
              "       [ -6.06315789, -32.58947368,  49.07368421,  22.54736842,\n",
              "        -34.67368421],\n",
              "       [  7.38947368,  14.96842105, -26.62105263, -10.04210526,\n",
              "         15.82105263],\n",
              "       [ -3.97894737, -19.13684211,  31.64210526,  16.48421053,\n",
              "        -24.44210526]])"
            ]
          },
          "metadata": {},
          "execution_count": 108
        }
      ]
    },
    {
      "cell_type": "code",
      "source": [
        "rank_a                                                             # printing the rank of matrix a"
      ],
      "metadata": {
        "id": "fmfYf0xxS54i",
        "colab": {
          "base_uri": "https://localhost:8080/"
        },
        "outputId": "53e51d7e-4ac8-40a2-a885-ee6ff8bb1665"
      },
      "execution_count": null,
      "outputs": [
        {
          "output_type": "execute_result",
          "data": {
            "text/plain": [
              "5"
            ]
          },
          "metadata": {},
          "execution_count": 109
        }
      ]
    },
    {
      "cell_type": "code",
      "source": [
        "condition_number_a                                                # printing the conditional number of matrix a"
      ],
      "metadata": {
        "id": "1hnjPqWLTHXV",
        "colab": {
          "base_uri": "https://localhost:8080/"
        },
        "outputId": "c42578ee-0c79-44d3-dbb8-a02f8ac579da"
      },
      "execution_count": null,
      "outputs": [
        {
          "output_type": "execute_result",
          "data": {
            "text/plain": [
              "250.91163636462974"
            ]
          },
          "metadata": {},
          "execution_count": 110
        }
      ]
    },
    {
      "cell_type": "code",
      "source": [
        "singular_values_a                                                 # printing the singular value of matrix a"
      ],
      "metadata": {
        "id": "MAwUUBNtTHnx",
        "colab": {
          "base_uri": "https://localhost:8080/"
        },
        "outputId": "a33577e9-bae9-40c2-9993-b324930d0121"
      },
      "execution_count": null,
      "outputs": [
        {
          "output_type": "execute_result",
          "data": {
            "text/plain": [
              "(array([[-0.56068318,  0.05674431,  0.48092731, -0.66585873,  0.08806543],\n",
              "        [-0.35873902, -0.76767152, -0.29058408,  0.08448686,  0.43635951],\n",
              "        [-0.54467093, -0.12945976,  0.15371441,  0.47076541, -0.66432338],\n",
              "        [-0.20986542,  0.15481605, -0.793112  , -0.42860293, -0.34534241],\n",
              "        [-0.4650062 ,  0.60558458, -0.17780622,  0.37970194,  0.49116996]]),\n",
              " array([1.77839259, 0.44795394, 0.25388434, 0.14028697, 0.00708772]),\n",
              " array([[-0.43909815, -0.47529538, -0.43893911, -0.46699442, -0.41295978],\n",
              "        [ 0.34015389, -0.09530846,  0.36451792,  0.17969294, -0.84264391],\n",
              "        [-0.77894166,  0.14365163,  0.60424085,  0.06692596, -0.05502741],\n",
              "        [ 0.19161233,  0.48220514,  0.21835442, -0.82441338, -0.05853922],\n",
              "        [-0.21914095,  0.71543903, -0.51154031,  0.25591044, -0.33609612]]))"
            ]
          },
          "metadata": {},
          "execution_count": 112
        }
      ]
    },
    {
      "cell_type": "code",
      "source": [
        "norm_a                                                           # printing the norm of matrix a"
      ],
      "metadata": {
        "id": "2btCTugwTdo3",
        "colab": {
          "base_uri": "https://localhost:8080/"
        },
        "outputId": "351d75d1-4374-4226-cb31-31fbcfa05050"
      },
      "execution_count": null,
      "outputs": [
        {
          "output_type": "execute_result",
          "data": {
            "text/plain": [
              "1.8567527741187115"
            ]
          },
          "metadata": {},
          "execution_count": 114
        }
      ]
    },
    {
      "cell_type": "code",
      "source": [
        "inverse_b                                                       # printing the inverse of matrix b"
      ],
      "metadata": {
        "id": "fuFVwMscTiqn",
        "colab": {
          "base_uri": "https://localhost:8080/"
        },
        "outputId": "8471e7d6-9266-4768-b4b4-ed4fdb65cdb4"
      },
      "execution_count": null,
      "outputs": [
        {
          "output_type": "execute_result",
          "data": {
            "text/plain": [
              "array([[-0.33712305, -0.1732919 ,  0.5059537 ,  0.35251834, -0.12676445],\n",
              "       [ 0.05606756,  0.59102114, -0.79063892, -0.60825545,  0.72039058],\n",
              "       [-0.11420532, -0.53924921,  0.77970143,  0.18666186, -0.41507249],\n",
              "       [ 0.51077724,  0.25366691, -0.76705259, -0.0653489 ,  0.18690338],\n",
              "       [-0.10081811, -0.1959777 ,  0.56322888,  0.24635225, -0.44798847]])"
            ]
          },
          "metadata": {},
          "execution_count": 115
        }
      ]
    },
    {
      "cell_type": "code",
      "source": [
        "rank_b                                                          # printing the rank of matrix b"
      ],
      "metadata": {
        "id": "tCF7ATEoTixo",
        "colab": {
          "base_uri": "https://localhost:8080/"
        },
        "outputId": "9e30d117-6b1d-4f4f-e0ab-1f22d288ed4a"
      },
      "execution_count": null,
      "outputs": [
        {
          "output_type": "execute_result",
          "data": {
            "text/plain": [
              "5"
            ]
          },
          "metadata": {},
          "execution_count": 116
        }
      ]
    },
    {
      "cell_type": "code",
      "source": [
        "condition_number_b                                              # printing the conditional number of matrix b"
      ],
      "metadata": {
        "id": "Ecz-WMVOTi0H",
        "colab": {
          "base_uri": "https://localhost:8080/"
        },
        "outputId": "2d24488f-309e-467b-adb2-9af7a721516b"
      },
      "execution_count": null,
      "outputs": [
        {
          "output_type": "execute_result",
          "data": {
            "text/plain": [
              "36.90923981389751"
            ]
          },
          "metadata": {},
          "execution_count": 117
        }
      ]
    },
    {
      "cell_type": "code",
      "source": [
        "singular_values_b                                               # printing the singular value of matrix b"
      ],
      "metadata": {
        "id": "FleomginTi9u",
        "colab": {
          "base_uri": "https://localhost:8080/"
        },
        "outputId": "5a8a1637-8c81-4160-9d32-cdfbce9de45c"
      },
      "execution_count": null,
      "outputs": [
        {
          "output_type": "execute_result",
          "data": {
            "text/plain": [
              "(array([[-0.57824574,  0.00907842,  0.32804774, -0.71872181,  0.20340376],\n",
              "        [-0.34035346, -0.73128421, -0.38946552,  0.19931284,  0.39745934],\n",
              "        [-0.56026104, -0.142468  ,  0.19973745,  0.33763618, -0.71548389],\n",
              "        [-0.15497138,  0.24678097, -0.83261713, -0.34344699, -0.32229785],\n",
              "        [-0.46030731,  0.61963135, -0.08691923,  0.46017316,  0.42995335]]),\n",
              " array([17.24559674,  5.43293018,  3.13386869,  1.60992397,  0.46724335]),\n",
              " array([[-0.44537326, -0.48204194, -0.43335784, -0.48024289, -0.38838896],\n",
              "        [ 0.32614134, -0.12378365,  0.38626934,  0.15266109, -0.84011906],\n",
              "        [-0.70367221,  0.2322773 ,  0.65482084, -0.14503297, -0.03267681],\n",
              "        [ 0.32066739,  0.56502008, -0.02778037, -0.7519642 , -0.10817959],\n",
              "        [-0.31191718,  0.61572132, -0.48315101,  0.39947045, -0.36136324]]))"
            ]
          },
          "metadata": {},
          "execution_count": 118
        }
      ]
    },
    {
      "cell_type": "code",
      "source": [
        "norm_b                                                                       # printing the norm of matrix b"
      ],
      "metadata": {
        "id": "GO34f14MUHKC",
        "colab": {
          "base_uri": "https://localhost:8080/"
        },
        "outputId": "c06412e0-97ff-4a56-b03a-4995c752152b"
      },
      "execution_count": null,
      "outputs": [
        {
          "output_type": "execute_result",
          "data": {
            "text/plain": [
              "18.427117028317497"
            ]
          },
          "metadata": {},
          "execution_count": 119
        }
      ]
    },
    {
      "cell_type": "code",
      "source": [
        "# Exercise 12\n",
        "column_vector_norm = np.linalg.norm(column_vector)                           # calculating the norm of column vector\n",
        "inner_product = np.inner(column_vector, column_vector)                       # doing inner product of column vectors\n",
        "outer_product = np.outer(column_vector, column_vector)                       # doing outer product of column vectors"
      ],
      "metadata": {
        "id": "yazOR-rJUVw7"
      },
      "execution_count": null,
      "outputs": []
    },
    {
      "cell_type": "code",
      "source": [
        "column_vector_norm                                                           # printing the column vector norm\n"
      ],
      "metadata": {
        "id": "9fUvfvMhUpsv",
        "colab": {
          "base_uri": "https://localhost:8080/"
        },
        "outputId": "7342a2f3-0166-4023-d0be-7c2f4ec35f39"
      },
      "execution_count": null,
      "outputs": [
        {
          "output_type": "execute_result",
          "data": {
            "text/plain": [
              "6.708203932499369"
            ]
          },
          "metadata": {},
          "execution_count": 121
        }
      ]
    },
    {
      "cell_type": "code",
      "source": [
        "inner_product                                                                # printing the inner product"
      ],
      "metadata": {
        "id": "iVED8RKyU2vR",
        "colab": {
          "base_uri": "https://localhost:8080/"
        },
        "outputId": "1a8bec7d-e9a3-49bc-cf9c-ff32375423f7"
      },
      "execution_count": null,
      "outputs": [
        {
          "output_type": "execute_result",
          "data": {
            "text/plain": [
              "45.0"
            ]
          },
          "metadata": {},
          "execution_count": 122
        }
      ]
    },
    {
      "cell_type": "code",
      "source": [
        "outer_product                                                                # printing the outer product"
      ],
      "metadata": {
        "id": "tNSDWfEiU8E5",
        "colab": {
          "base_uri": "https://localhost:8080/"
        },
        "outputId": "49b72ec6-726c-4f8f-ab85-c8cebdabf04a"
      },
      "execution_count": null,
      "outputs": [
        {
          "output_type": "execute_result",
          "data": {
            "text/plain": [
              "array([[25., 20., 10.],\n",
              "       [20., 16.,  8.],\n",
              "       [10.,  8.,  4.]])"
            ]
          },
          "metadata": {},
          "execution_count": 123
        }
      ]
    },
    {
      "cell_type": "code",
      "source": [
        "# Exercise 13\n",
        "def derivative(f, a, method='central', h=0.01):                 # defining the function derivative\n",
        "    if method == 'central':\n",
        "        return (f(a + h) - f(a - h)) / (2 * h)\n",
        "    elif method == 'forward':\n",
        "        return (f(a + h) - f(a)) / h\n",
        "    elif method == 'backward':\n",
        "        return (f(a) - f(a - h)) / h\n",
        "\n",
        "def func1(x):                                                   # defining the function func1\n",
        "    return np.exp(x)\n",
        "\n",
        "def func2(x):                                                   # defining the function func2\n",
        "    return np.cos(x)\n",
        "\n",
        "x_value = 0.5\n",
        "derivative_func1 = derivative(func1, x_value)                   # calling the function derivative passing func1 and x_value as argument\n",
        "derivative_func2 = derivative(func2, x_value)                   # calling the function derivative passing func2 and x_value as argument"
      ],
      "metadata": {
        "id": "-yxwrNjhU_Fm"
      },
      "execution_count": null,
      "outputs": []
    },
    {
      "cell_type": "code",
      "source": [
        "derivative_func1                                                # getting the result from derivative func1"
      ],
      "metadata": {
        "id": "rZ_f8ASpVI9q",
        "colab": {
          "base_uri": "https://localhost:8080/"
        },
        "outputId": "5636d6e1-47dd-4705-8db5-c77b7f3cc833"
      },
      "execution_count": null,
      "outputs": [
        {
          "output_type": "execute_result",
          "data": {
            "text/plain": [
              "1.648748749525375"
            ]
          },
          "metadata": {},
          "execution_count": 125
        }
      ]
    },
    {
      "cell_type": "code",
      "source": [
        "derivative_func2                                                # getting the result from derivative func2"
      ],
      "metadata": {
        "id": "TwyPgzJWVWga",
        "colab": {
          "base_uri": "https://localhost:8080/"
        },
        "outputId": "7639f3dd-f720-4fec-ede8-417a0c444d14"
      },
      "execution_count": null,
      "outputs": [
        {
          "output_type": "execute_result",
          "data": {
            "text/plain": [
              "-0.4794175482185081"
            ]
          },
          "metadata": {},
          "execution_count": 127
        }
      ]
    },
    {
      "cell_type": "code",
      "source": [
        "# Exercise 14\n",
        "# Path to the uploaded file in Google Drive\n",
        "import io\n",
        "from google.colab import files, drive                              # importing the file and drive from google colab\n",
        "drive.mount('/content/drive')\n",
        "file_path = '/content/drive/My Drive/AWS.xlsx'                     # providing the file path\n",
        "\n",
        "# Load the Excel file into a pandas DataFrame\n",
        "data = pd.read_excel(file_path)                                    # reading the file with pandas library\n",
        "\n",
        "# Display the first few rows of the DataFrame\n",
        "data.head()                                                        # printing the head or first five rows of dataframe\n"
      ],
      "metadata": {
        "id": "KwBUQm7sUngP",
        "colab": {
          "base_uri": "https://localhost:8080/",
          "height": 224
        },
        "outputId": "a16909e0-f541-4be9-9f90-d9ff3534943b"
      },
      "execution_count": null,
      "outputs": [
        {
          "output_type": "stream",
          "name": "stdout",
          "text": [
            "Drive already mounted at /content/drive; to attempt to forcibly remount, call drive.mount(\"/content/drive\", force_remount=True).\n"
          ]
        },
        {
          "output_type": "execute_result",
          "data": {
            "text/plain": [
              "                  created_at  entry_id  Soil Temperature  Soil Moisture  \\\n",
              "0  2022-12-14T14:19:11+05:30     10830             21.06            817   \n",
              "1  2022-12-14T14:20:13+05:30     10831             21.06            817   \n",
              "2  2022-12-14T14:21:15+05:30     10832             21.06            817   \n",
              "3  2022-12-14T14:22:18+05:30     10833             21.06            817   \n",
              "4  2022-12-14T14:23:20+05:30     10834             21.06            817   \n",
              "\n",
              "   Wind Speed  Rainfall  Temperature  Humidity  Pressure  Battery Voltage  \n",
              "0         0.0      0.25        25.38     45.09      1.94             4.14  \n",
              "1         0.0      0.25        25.27     46.52      1.94             4.14  \n",
              "2         0.0      0.25        25.34     45.79      1.94             4.14  \n",
              "3         0.0      0.25        25.13     44.91      1.94             4.15  \n",
              "4         0.0      0.25        24.95     45.12      1.94             4.15  "
            ],
            "text/html": [
              "\n",
              "  <div id=\"df-1ca2a371-4e1d-4ed7-8690-fb4f37935cbb\" class=\"colab-df-container\">\n",
              "    <div>\n",
              "<style scoped>\n",
              "    .dataframe tbody tr th:only-of-type {\n",
              "        vertical-align: middle;\n",
              "    }\n",
              "\n",
              "    .dataframe tbody tr th {\n",
              "        vertical-align: top;\n",
              "    }\n",
              "\n",
              "    .dataframe thead th {\n",
              "        text-align: right;\n",
              "    }\n",
              "</style>\n",
              "<table border=\"1\" class=\"dataframe\">\n",
              "  <thead>\n",
              "    <tr style=\"text-align: right;\">\n",
              "      <th></th>\n",
              "      <th>created_at</th>\n",
              "      <th>entry_id</th>\n",
              "      <th>Soil Temperature</th>\n",
              "      <th>Soil Moisture</th>\n",
              "      <th>Wind Speed</th>\n",
              "      <th>Rainfall</th>\n",
              "      <th>Temperature</th>\n",
              "      <th>Humidity</th>\n",
              "      <th>Pressure</th>\n",
              "      <th>Battery Voltage</th>\n",
              "    </tr>\n",
              "  </thead>\n",
              "  <tbody>\n",
              "    <tr>\n",
              "      <th>0</th>\n",
              "      <td>2022-12-14T14:19:11+05:30</td>\n",
              "      <td>10830</td>\n",
              "      <td>21.06</td>\n",
              "      <td>817</td>\n",
              "      <td>0.0</td>\n",
              "      <td>0.25</td>\n",
              "      <td>25.38</td>\n",
              "      <td>45.09</td>\n",
              "      <td>1.94</td>\n",
              "      <td>4.14</td>\n",
              "    </tr>\n",
              "    <tr>\n",
              "      <th>1</th>\n",
              "      <td>2022-12-14T14:20:13+05:30</td>\n",
              "      <td>10831</td>\n",
              "      <td>21.06</td>\n",
              "      <td>817</td>\n",
              "      <td>0.0</td>\n",
              "      <td>0.25</td>\n",
              "      <td>25.27</td>\n",
              "      <td>46.52</td>\n",
              "      <td>1.94</td>\n",
              "      <td>4.14</td>\n",
              "    </tr>\n",
              "    <tr>\n",
              "      <th>2</th>\n",
              "      <td>2022-12-14T14:21:15+05:30</td>\n",
              "      <td>10832</td>\n",
              "      <td>21.06</td>\n",
              "      <td>817</td>\n",
              "      <td>0.0</td>\n",
              "      <td>0.25</td>\n",
              "      <td>25.34</td>\n",
              "      <td>45.79</td>\n",
              "      <td>1.94</td>\n",
              "      <td>4.14</td>\n",
              "    </tr>\n",
              "    <tr>\n",
              "      <th>3</th>\n",
              "      <td>2022-12-14T14:22:18+05:30</td>\n",
              "      <td>10833</td>\n",
              "      <td>21.06</td>\n",
              "      <td>817</td>\n",
              "      <td>0.0</td>\n",
              "      <td>0.25</td>\n",
              "      <td>25.13</td>\n",
              "      <td>44.91</td>\n",
              "      <td>1.94</td>\n",
              "      <td>4.15</td>\n",
              "    </tr>\n",
              "    <tr>\n",
              "      <th>4</th>\n",
              "      <td>2022-12-14T14:23:20+05:30</td>\n",
              "      <td>10834</td>\n",
              "      <td>21.06</td>\n",
              "      <td>817</td>\n",
              "      <td>0.0</td>\n",
              "      <td>0.25</td>\n",
              "      <td>24.95</td>\n",
              "      <td>45.12</td>\n",
              "      <td>1.94</td>\n",
              "      <td>4.15</td>\n",
              "    </tr>\n",
              "  </tbody>\n",
              "</table>\n",
              "</div>\n",
              "    <div class=\"colab-df-buttons\">\n",
              "\n",
              "  <div class=\"colab-df-container\">\n",
              "    <button class=\"colab-df-convert\" onclick=\"convertToInteractive('df-1ca2a371-4e1d-4ed7-8690-fb4f37935cbb')\"\n",
              "            title=\"Convert this dataframe to an interactive table.\"\n",
              "            style=\"display:none;\">\n",
              "\n",
              "  <svg xmlns=\"http://www.w3.org/2000/svg\" height=\"24px\" viewBox=\"0 -960 960 960\">\n",
              "    <path d=\"M120-120v-720h720v720H120Zm60-500h600v-160H180v160Zm220 220h160v-160H400v160Zm0 220h160v-160H400v160ZM180-400h160v-160H180v160Zm440 0h160v-160H620v160ZM180-180h160v-160H180v160Zm440 0h160v-160H620v160Z\"/>\n",
              "  </svg>\n",
              "    </button>\n",
              "\n",
              "  <style>\n",
              "    .colab-df-container {\n",
              "      display:flex;\n",
              "      gap: 12px;\n",
              "    }\n",
              "\n",
              "    .colab-df-convert {\n",
              "      background-color: #E8F0FE;\n",
              "      border: none;\n",
              "      border-radius: 50%;\n",
              "      cursor: pointer;\n",
              "      display: none;\n",
              "      fill: #1967D2;\n",
              "      height: 32px;\n",
              "      padding: 0 0 0 0;\n",
              "      width: 32px;\n",
              "    }\n",
              "\n",
              "    .colab-df-convert:hover {\n",
              "      background-color: #E2EBFA;\n",
              "      box-shadow: 0px 1px 2px rgba(60, 64, 67, 0.3), 0px 1px 3px 1px rgba(60, 64, 67, 0.15);\n",
              "      fill: #174EA6;\n",
              "    }\n",
              "\n",
              "    .colab-df-buttons div {\n",
              "      margin-bottom: 4px;\n",
              "    }\n",
              "\n",
              "    [theme=dark] .colab-df-convert {\n",
              "      background-color: #3B4455;\n",
              "      fill: #D2E3FC;\n",
              "    }\n",
              "\n",
              "    [theme=dark] .colab-df-convert:hover {\n",
              "      background-color: #434B5C;\n",
              "      box-shadow: 0px 1px 3px 1px rgba(0, 0, 0, 0.15);\n",
              "      filter: drop-shadow(0px 1px 2px rgba(0, 0, 0, 0.3));\n",
              "      fill: #FFFFFF;\n",
              "    }\n",
              "  </style>\n",
              "\n",
              "    <script>\n",
              "      const buttonEl =\n",
              "        document.querySelector('#df-1ca2a371-4e1d-4ed7-8690-fb4f37935cbb button.colab-df-convert');\n",
              "      buttonEl.style.display =\n",
              "        google.colab.kernel.accessAllowed ? 'block' : 'none';\n",
              "\n",
              "      async function convertToInteractive(key) {\n",
              "        const element = document.querySelector('#df-1ca2a371-4e1d-4ed7-8690-fb4f37935cbb');\n",
              "        const dataTable =\n",
              "          await google.colab.kernel.invokeFunction('convertToInteractive',\n",
              "                                                    [key], {});\n",
              "        if (!dataTable) return;\n",
              "\n",
              "        const docLinkHtml = 'Like what you see? Visit the ' +\n",
              "          '<a target=\"_blank\" href=https://colab.research.google.com/notebooks/data_table.ipynb>data table notebook</a>'\n",
              "          + ' to learn more about interactive tables.';\n",
              "        element.innerHTML = '';\n",
              "        dataTable['output_type'] = 'display_data';\n",
              "        await google.colab.output.renderOutput(dataTable, element);\n",
              "        const docLink = document.createElement('div');\n",
              "        docLink.innerHTML = docLinkHtml;\n",
              "        element.appendChild(docLink);\n",
              "      }\n",
              "    </script>\n",
              "  </div>\n",
              "\n",
              "\n",
              "<div id=\"df-b62f16ce-1396-46c0-a771-cb52d2818618\">\n",
              "  <button class=\"colab-df-quickchart\" onclick=\"quickchart('df-b62f16ce-1396-46c0-a771-cb52d2818618')\"\n",
              "            title=\"Suggest charts.\"\n",
              "            style=\"display:none;\">\n",
              "\n",
              "<svg xmlns=\"http://www.w3.org/2000/svg\" height=\"24px\"viewBox=\"0 0 24 24\"\n",
              "     width=\"24px\">\n",
              "    <g>\n",
              "        <path d=\"M19 3H5c-1.1 0-2 .9-2 2v14c0 1.1.9 2 2 2h14c1.1 0 2-.9 2-2V5c0-1.1-.9-2-2-2zM9 17H7v-7h2v7zm4 0h-2V7h2v10zm4 0h-2v-4h2v4z\"/>\n",
              "    </g>\n",
              "</svg>\n",
              "  </button>\n",
              "\n",
              "<style>\n",
              "  .colab-df-quickchart {\n",
              "    background-color: #E8F0FE;\n",
              "    border: none;\n",
              "    border-radius: 50%;\n",
              "    cursor: pointer;\n",
              "    display: none;\n",
              "    fill: #1967D2;\n",
              "    height: 32px;\n",
              "    padding: 0 0 0 0;\n",
              "    width: 32px;\n",
              "  }\n",
              "\n",
              "  .colab-df-quickchart:hover {\n",
              "    background-color: #E2EBFA;\n",
              "    box-shadow: 0px 1px 2px rgba(60, 64, 67, 0.3), 0px 1px 3px 1px rgba(60, 64, 67, 0.15);\n",
              "    fill: #174EA6;\n",
              "  }\n",
              "\n",
              "  [theme=dark] .colab-df-quickchart {\n",
              "    background-color: #3B4455;\n",
              "    fill: #D2E3FC;\n",
              "  }\n",
              "\n",
              "  [theme=dark] .colab-df-quickchart:hover {\n",
              "    background-color: #434B5C;\n",
              "    box-shadow: 0px 1px 3px 1px rgba(0, 0, 0, 0.15);\n",
              "    filter: drop-shadow(0px 1px 2px rgba(0, 0, 0, 0.3));\n",
              "    fill: #FFFFFF;\n",
              "  }\n",
              "</style>\n",
              "\n",
              "  <script>\n",
              "    async function quickchart(key) {\n",
              "      const charts = await google.colab.kernel.invokeFunction(\n",
              "          'suggestCharts', [key], {});\n",
              "    }\n",
              "    (() => {\n",
              "      let quickchartButtonEl =\n",
              "        document.querySelector('#df-b62f16ce-1396-46c0-a771-cb52d2818618 button');\n",
              "      quickchartButtonEl.style.display =\n",
              "        google.colab.kernel.accessAllowed ? 'block' : 'none';\n",
              "    })();\n",
              "  </script>\n",
              "</div>\n",
              "    </div>\n",
              "  </div>\n"
            ]
          },
          "metadata": {},
          "execution_count": 128
        }
      ]
    }
  ]
}