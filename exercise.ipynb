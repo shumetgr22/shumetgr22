{
  "nbformat": 4,
  "nbformat_minor": 0,
  "metadata": {
    "colab": {
      "provenance": [],
      "include_colab_link": true
    },
    "kernelspec": {
      "name": "python3",
      "display_name": "Python 3"
    },
    "language_info": {
      "name": "python"
    }
  },
  "cells": [
    {
      "cell_type": "markdown",
      "metadata": {
        "id": "view-in-github",
        "colab_type": "text"
      },
      "source": [
        "<a href=\"https://colab.research.google.com/github/shumetgr22/shumetgr22/blob/main/exercise.ipynb\" target=\"_parent\"><img src=\"https://colab.research.google.com/assets/colab-badge.svg\" alt=\"Open In Colab\"/></a>"
      ]
    },
    {
      "cell_type": "code",
      "execution_count": 2,
      "metadata": {
        "id": "rjBrr8FpIO0v",
        "outputId": "ef2f4823-894e-4b4e-d6ea-cf298599cf14",
        "colab": {
          "base_uri": "https://localhost:8080/"
        }
      },
      "outputs": [
        {
          "output_type": "stream",
          "name": "stdout",
          "text": [
            "45\n"
          ]
        }
      ],
      "source": [
        "a=int(45)\n",
        "print(a)"
      ]
    },
    {
      "cell_type": "code",
      "source": [
        "a=[[1,2,5],[4,2,6],[6,7,8]]\n",
        "print(a)\n"
      ],
      "metadata": {
        "id": "ZxMqxtVeVsXp",
        "outputId": "87e1a370-c31b-4817-aa4a-bfb5c9f882f1",
        "colab": {
          "base_uri": "https://localhost:8080/"
        }
      },
      "execution_count": 3,
      "outputs": [
        {
          "output_type": "stream",
          "name": "stdout",
          "text": [
            "[[1, 2, 5], [4, 2, 6], [6, 7, 8]]\n"
          ]
        }
      ]
    },
    {
      "cell_type": "code",
      "source": [
        "#3x3 matrix\n",
        "import numpy as np\n",
        "\n",
        "a=[[1,2,5],[4,2,6],[6,7,8]]\n",
        "print(a)"
      ],
      "metadata": {
        "id": "zoYcq-nYaAHD",
        "outputId": "f3b0ad74-aacc-483a-8046-978833724164",
        "colab": {
          "base_uri": "https://localhost:8080/"
        }
      },
      "execution_count": 12,
      "outputs": [
        {
          "output_type": "stream",
          "name": "stdout",
          "text": [
            "[[1, 2, 5], [4, 2, 6], [6, 7, 8]]\n"
          ]
        }
      ]
    },
    {
      "cell_type": "code",
      "source": [
        "m = np.array(a)\n",
        "print(m)"
      ],
      "metadata": {
        "id": "izr-SoiQaojh",
        "outputId": "a8443082-037a-45e1-8e30-befd18a0d606",
        "colab": {
          "base_uri": "https://localhost:8080/"
        }
      },
      "execution_count": 13,
      "outputs": [
        {
          "output_type": "stream",
          "name": "stdout",
          "text": [
            "[[1 2 5]\n",
            " [4 2 6]\n",
            " [6 7 8]]\n"
          ]
        }
      ]
    },
    {
      "cell_type": "code",
      "source": [
        "b=m[0:2,0:2]\n",
        "print(b)"
      ],
      "metadata": {
        "id": "Xu00G3lbazrs",
        "outputId": "1d245154-d252-434a-8704-b1158b43b216",
        "colab": {
          "base_uri": "https://localhost:8080/"
        }
      },
      "execution_count": 14,
      "outputs": [
        {
          "output_type": "stream",
          "name": "stdout",
          "text": [
            "[[1 2]\n",
            " [4 2]]\n"
          ]
        }
      ]
    }
  ]
}