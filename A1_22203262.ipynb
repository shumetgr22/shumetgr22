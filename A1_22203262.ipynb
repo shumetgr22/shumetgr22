{
  "nbformat": 4,
  "nbformat_minor": 0,
  "metadata": {
    "colab": {
      "provenance": [],
      "authorship_tag": "ABX9TyPp0Fzxb/q59G7SuqgxVeG8",
      "include_colab_link": true
    },
    "kernelspec": {
      "name": "python3",
      "display_name": "Python 3"
    },
    "language_info": {
      "name": "python"
    }
  },
  "cells": [
    {
      "cell_type": "markdown",
      "metadata": {
        "id": "view-in-github",
        "colab_type": "text"
      },
      "source": [
        "<a href=\"https://colab.research.google.com/github/shumetgr22/shumetgr22/blob/main/A1_22203262.ipynb\" target=\"_parent\"><img src=\"https://colab.research.google.com/assets/colab-badge.svg\" alt=\"Open In Colab\"/></a>"
      ]
    },
    {
      "cell_type": "code",
      "execution_count": 142,
      "metadata": {
        "colab": {
          "base_uri": "https://localhost:8080/"
        },
        "id": "6LMCSzAC-8Bc",
        "outputId": "527e1e47-d140-419d-b6b8-04a4bb30b66e"
      },
      "outputs": [
        {
          "output_type": "stream",
          "name": "stdout",
          "text": [
            "Drive already mounted at /content/drive; to attempt to forcibly remount, call drive.mount(\"/content/drive\", force_remount=True).\n"
          ]
        }
      ],
      "source": [
        "# importing neccesary libraries\n",
        "import numpy as np\n",
        "import pandas as pd\n",
        "import io\n",
        "from google.colab import files, drive\n",
        "drive.mount('/content/drive')\n",
        "\n",
        ""
      ]
    },
    {
      "cell_type": "code",
      "source": [
        "# Exercise 1\n",
        "# Create row and column vectors using input method\n",
        "row_vector = np.array(input(\"Enter space-separated values for row vector: \").split(), dtype=float)\n",
        "column_vector = np.array(input(\"Enter space-separated values for column vector: \").split(), dtype=float)"
      ],
      "metadata": {
        "colab": {
          "base_uri": "https://localhost:8080/"
        },
        "id": "teVUM5qi_-P1",
        "outputId": "159774a1-2cce-411c-e7d4-d9c98e3d0fb4"
      },
      "execution_count": 143,
      "outputs": [
        {
          "name": "stdout",
          "output_type": "stream",
          "text": [
            "Enter space-separated values for row vector: 4 5 6 8 7\n",
            "Enter space-separated values for column vector: 8 9 7 4 5\n"
          ]
        }
      ]
    },
    {
      "cell_type": "code",
      "source": [
        "\n",
        "# Manually create row and column vectors\n",
        "row_vector_manual = np.array([1, 2, 3])\n",
        "column_vector_manual = np.array([[1], [2], [3]])\n"
      ],
      "metadata": {
        "id": "VJu87wmyAnyg"
      },
      "execution_count": 144,
      "outputs": []
    },
    {
      "cell_type": "code",
      "source": [
        "row_vector_manual\n",
        "column_vector_manual"
      ],
      "metadata": {
        "colab": {
          "base_uri": "https://localhost:8080/"
        },
        "id": "IYi_oDMaBzA0",
        "outputId": "6d3e32cc-8c22-4239-f1e5-1e38a5bf775e"
      },
      "execution_count": 145,
      "outputs": [
        {
          "output_type": "execute_result",
          "data": {
            "text/plain": [
              "array([[1],\n",
              "       [2],\n",
              "       [3]])"
            ]
          },
          "metadata": {},
          "execution_count": 145
        }
      ]
    },
    {
      "cell_type": "code",
      "source": [
        "\n",
        "# Exercise 2\n",
        "# Create a 5x5 matrix using input method\n",
        "matrix_a = np.zeros((5, 5))\n",
        "for i in range(5):\n",
        "    matrix_a[i] = np.array(input(f\"Enter values for row {i+1}: \").split(), dtype=float)\n"
      ],
      "metadata": {
        "colab": {
          "base_uri": "https://localhost:8080/"
        },
        "id": "G-AGeOtSBw86",
        "outputId": "770963a9-9b0e-4e41-f6d8-d219deb1536e"
      },
      "execution_count": 146,
      "outputs": [
        {
          "name": "stdout",
          "output_type": "stream",
          "text": [
            "Enter values for row 1: 4 8 9 5 4\n",
            "Enter values for row 2: 6 7 8 10 4\n",
            "Enter values for row 3: 7 9 10 11 7\n",
            "Enter values for row 4: 6 8 4 11 9\n",
            "Enter values for row 5: 7 8 5 9 12\n"
          ]
        }
      ]
    },
    {
      "cell_type": "code",
      "source": [
        "matrix_a[0]"
      ],
      "metadata": {
        "colab": {
          "base_uri": "https://localhost:8080/"
        },
        "id": "JZ9MTtcQDPo0",
        "outputId": "7075bf6c-1c9a-4c63-9805-6bedc92a047f"
      },
      "execution_count": 147,
      "outputs": [
        {
          "output_type": "execute_result",
          "data": {
            "text/plain": [
              "array([4., 8., 9., 5., 4.])"
            ]
          },
          "metadata": {},
          "execution_count": 147
        }
      ]
    },
    {
      "cell_type": "code",
      "source": [
        "# Manually create a 5x5 matrix\n",
        "matrix_b = np.array([[1, 2, 3, 4, 5],\n",
        "                     [6, 7, 8, 9, 10],\n",
        "                     [11, 12, 13, 14, 15],\n",
        "                     [16, 17, 18, 19, 20],\n",
        "                     [21, 22, 23, 24, 25]])"
      ],
      "metadata": {
        "id": "2dFLkUd8Cin1"
      },
      "execution_count": 148,
      "outputs": []
    },
    {
      "cell_type": "code",
      "source": [
        "matrix_b"
      ],
      "metadata": {
        "colab": {
          "base_uri": "https://localhost:8080/"
        },
        "id": "r8gyyG3HJgUL",
        "outputId": "5bcc0fb8-a451-4d88-c57b-6e7ae18309de"
      },
      "execution_count": 149,
      "outputs": [
        {
          "output_type": "execute_result",
          "data": {
            "text/plain": [
              "array([[ 1,  2,  3,  4,  5],\n",
              "       [ 6,  7,  8,  9, 10],\n",
              "       [11, 12, 13, 14, 15],\n",
              "       [16, 17, 18, 19, 20],\n",
              "       [21, 22, 23, 24, 25]])"
            ]
          },
          "metadata": {},
          "execution_count": 149
        }
      ]
    },
    {
      "cell_type": "code",
      "source": [
        "# Exercise 3\n",
        "third_row = matrix_a[2]\n",
        "third_row\n"
      ],
      "metadata": {
        "colab": {
          "base_uri": "https://localhost:8080/"
        },
        "id": "75UUGCryAEqc",
        "outputId": "456d5abe-c81b-48ae-b85d-24c8a22a2116"
      },
      "execution_count": 150,
      "outputs": [
        {
          "output_type": "execute_result",
          "data": {
            "text/plain": [
              "array([ 7.,  9., 10., 11.,  7.])"
            ]
          },
          "metadata": {},
          "execution_count": 150
        }
      ]
    },
    {
      "cell_type": "code",
      "source": [
        "# Exercise 4\n",
        "fourth_column = matrix_a[:, 3]"
      ],
      "metadata": {
        "id": "NAfjB_JRLZ7n"
      },
      "execution_count": 151,
      "outputs": []
    },
    {
      "cell_type": "code",
      "source": [
        "fourth_column"
      ],
      "metadata": {
        "colab": {
          "base_uri": "https://localhost:8080/"
        },
        "id": "sY-GnHypL7Hp",
        "outputId": "9c7e748c-5ac3-4e61-fe91-940c300f3410"
      },
      "execution_count": 152,
      "outputs": [
        {
          "output_type": "execute_result",
          "data": {
            "text/plain": [
              "array([ 5., 10., 11., 11.,  9.])"
            ]
          },
          "metadata": {},
          "execution_count": 152
        }
      ]
    },
    {
      "cell_type": "code",
      "source": [
        "# Exercise 5\n",
        "sorted_matrix_row_wise = np.sort(matrix_a, axis=1)\n",
        "sorted_matrix_column_wise = np.sort(matrix_a, axis=0)"
      ],
      "metadata": {
        "id": "tvizNmQyL4iR"
      },
      "execution_count": 153,
      "outputs": []
    },
    {
      "cell_type": "code",
      "source": [
        "sorted_matrix_row_wise"
      ],
      "metadata": {
        "colab": {
          "base_uri": "https://localhost:8080/"
        },
        "id": "faqGY-MDOb2z",
        "outputId": "979e0b70-0b88-48f1-f730-71bc4d38ed9a"
      },
      "execution_count": 154,
      "outputs": [
        {
          "output_type": "execute_result",
          "data": {
            "text/plain": [
              "array([[ 4.,  4.,  5.,  8.,  9.],\n",
              "       [ 4.,  6.,  7.,  8., 10.],\n",
              "       [ 7.,  7.,  9., 10., 11.],\n",
              "       [ 4.,  6.,  8.,  9., 11.],\n",
              "       [ 5.,  7.,  8.,  9., 12.]])"
            ]
          },
          "metadata": {},
          "execution_count": 154
        }
      ]
    },
    {
      "cell_type": "code",
      "source": [
        "sorted_matrix_column_wise"
      ],
      "metadata": {
        "colab": {
          "base_uri": "https://localhost:8080/"
        },
        "id": "QJdai5CoOm-q",
        "outputId": "20ace4c5-9e91-4913-d77c-6bfffde6a390"
      },
      "execution_count": 155,
      "outputs": [
        {
          "output_type": "execute_result",
          "data": {
            "text/plain": [
              "array([[ 4.,  7.,  4.,  5.,  4.],\n",
              "       [ 6.,  8.,  5.,  9.,  4.],\n",
              "       [ 6.,  8.,  8., 10.,  7.],\n",
              "       [ 7.,  8.,  9., 11.,  9.],\n",
              "       [ 7.,  9., 10., 11., 12.]])"
            ]
          },
          "metadata": {},
          "execution_count": 155
        }
      ]
    },
    {
      "cell_type": "code",
      "source": [
        "a= [2,3,4,5,1]"
      ],
      "metadata": {
        "id": "wvoBfKtENaB8"
      },
      "execution_count": 156,
      "outputs": []
    },
    {
      "cell_type": "code",
      "source": [
        "np.sort(a)"
      ],
      "metadata": {
        "colab": {
          "base_uri": "https://localhost:8080/"
        },
        "id": "q2PI0sv3NCr0",
        "outputId": "940f5777-461a-450c-d1f8-b7d17ddd6997"
      },
      "execution_count": 157,
      "outputs": [
        {
          "output_type": "execute_result",
          "data": {
            "text/plain": [
              "array([1, 2, 3, 4, 5])"
            ]
          },
          "metadata": {},
          "execution_count": 157
        }
      ]
    },
    {
      "cell_type": "code",
      "source": [
        "# Exercise 6\n",
        "matrix_b = np.copy(matrix_a)\n",
        "matrix_b[matrix_b > 2] *= 10"
      ],
      "metadata": {
        "id": "qzf83hXxPFku"
      },
      "execution_count": 158,
      "outputs": []
    },
    {
      "cell_type": "code",
      "source": [
        "matrix_b"
      ],
      "metadata": {
        "colab": {
          "base_uri": "https://localhost:8080/"
        },
        "id": "S9IE-Vqzd6sh",
        "outputId": "4858701d-08c4-4b0f-c940-7b9e524bf50a"
      },
      "execution_count": 159,
      "outputs": [
        {
          "output_type": "execute_result",
          "data": {
            "text/plain": [
              "array([[ 40.,  80.,  90.,  50.,  40.],\n",
              "       [ 60.,  70.,  80., 100.,  40.],\n",
              "       [ 70.,  90., 100., 110.,  70.],\n",
              "       [ 60.,  80.,  40., 110.,  90.],\n",
              "       [ 70.,  80.,  50.,  90., 120.]])"
            ]
          },
          "metadata": {},
          "execution_count": 159
        }
      ]
    },
    {
      "cell_type": "code",
      "source": [
        "matrix_b"
      ],
      "metadata": {
        "colab": {
          "base_uri": "https://localhost:8080/"
        },
        "id": "HNR9sAjweCG2",
        "outputId": "2e426baf-9e46-40a5-f233-32ddeac53c09"
      },
      "execution_count": 160,
      "outputs": [
        {
          "output_type": "execute_result",
          "data": {
            "text/plain": [
              "array([[ 40.,  80.,  90.,  50.,  40.],\n",
              "       [ 60.,  70.,  80., 100.,  40.],\n",
              "       [ 70.,  90., 100., 110.,  70.],\n",
              "       [ 60.,  80.,  40., 110.,  90.],\n",
              "       [ 70.,  80.,  50.,  90., 120.]])"
            ]
          },
          "metadata": {},
          "execution_count": 160
        }
      ]
    },
    {
      "cell_type": "code",
      "source": [
        "# Exercise 7\n",
        "matrix_sum = matrix_a + matrix_b\n",
        "matrix_sum"
      ],
      "metadata": {
        "colab": {
          "base_uri": "https://localhost:8080/"
        },
        "id": "Fdu35eOLPF2f",
        "outputId": "674928e7-8550-4c4b-e566-fabf4d597154"
      },
      "execution_count": 161,
      "outputs": [
        {
          "output_type": "execute_result",
          "data": {
            "text/plain": [
              "array([[ 44.,  88.,  99.,  55.,  44.],\n",
              "       [ 66.,  77.,  88., 110.,  44.],\n",
              "       [ 77.,  99., 110., 121.,  77.],\n",
              "       [ 66.,  88.,  44., 121.,  99.],\n",
              "       [ 77.,  88.,  55.,  99., 132.]])"
            ]
          },
          "metadata": {},
          "execution_count": 161
        }
      ]
    },
    {
      "cell_type": "code",
      "source": [
        "# Exercise 8\n",
        "matrix_difference = matrix_a - matrix_b"
      ],
      "metadata": {
        "id": "1XM4HoCaP1TS"
      },
      "execution_count": 162,
      "outputs": []
    },
    {
      "cell_type": "code",
      "source": [
        "matrix_difference"
      ],
      "metadata": {
        "colab": {
          "base_uri": "https://localhost:8080/"
        },
        "id": "C68SZTbsP3rE",
        "outputId": "7331d71e-e2ae-43df-a29d-7848ce001f87"
      },
      "execution_count": 163,
      "outputs": [
        {
          "output_type": "execute_result",
          "data": {
            "text/plain": [
              "array([[ -36.,  -72.,  -81.,  -45.,  -36.],\n",
              "       [ -54.,  -63.,  -72.,  -90.,  -36.],\n",
              "       [ -63.,  -81.,  -90.,  -99.,  -63.],\n",
              "       [ -54.,  -72.,  -36.,  -99.,  -81.],\n",
              "       [ -63.,  -72.,  -45.,  -81., -108.]])"
            ]
          },
          "metadata": {},
          "execution_count": 163
        }
      ]
    },
    {
      "cell_type": "code",
      "source": [
        "# Exercise 9\n",
        "element_wise_product = matrix_a * matrix_b\n",
        "matrix_multiplication = np.dot(matrix_a, matrix_b)"
      ],
      "metadata": {
        "id": "u4j3B8SSP_4u"
      },
      "execution_count": 164,
      "outputs": []
    },
    {
      "cell_type": "code",
      "source": [
        "element_wise_product"
      ],
      "metadata": {
        "colab": {
          "base_uri": "https://localhost:8080/"
        },
        "id": "nkS0ycuJQPve",
        "outputId": "c6ea1f09-6c85-4e35-d093-c20b2e83cd59"
      },
      "execution_count": 165,
      "outputs": [
        {
          "output_type": "execute_result",
          "data": {
            "text/plain": [
              "array([[ 160.,  640.,  810.,  250.,  160.],\n",
              "       [ 360.,  490.,  640., 1000.,  160.],\n",
              "       [ 490.,  810., 1000., 1210.,  490.],\n",
              "       [ 360.,  640.,  160., 1210.,  810.],\n",
              "       [ 490.,  640.,  250.,  810., 1440.]])"
            ]
          },
          "metadata": {},
          "execution_count": 165
        }
      ]
    },
    {
      "cell_type": "code",
      "source": [
        "matrix_multiplication"
      ],
      "metadata": {
        "colab": {
          "base_uri": "https://localhost:8080/"
        },
        "id": "0rtFbM3zQS30",
        "outputId": "97819c76-7e08-412b-d656-49d7ba0f1bd6"
      },
      "execution_count": 166,
      "outputs": [
        {
          "output_type": "execute_result",
          "data": {
            "text/plain": [
              "array([[1850., 2410., 2300., 2900., 2040.],\n",
              "       [2100., 2810., 2500., 3340., 2460.],\n",
              "       [2670., 3530., 3140., 4190., 3170.],\n",
              "       [2290., 3000., 2470., 3560., 2910.],\n",
              "       [2490., 3250., 2730., 3770., 3200.]])"
            ]
          },
          "metadata": {},
          "execution_count": 166
        }
      ]
    },
    {
      "cell_type": "code",
      "source": [
        "# Exercise 10\n",
        "matrix_a /= 18\n",
        "matrix_b /= 18"
      ],
      "metadata": {
        "id": "Fawtlg9qSN7E"
      },
      "execution_count": 167,
      "outputs": []
    },
    {
      "cell_type": "code",
      "source": [
        "matrix_a"
      ],
      "metadata": {
        "colab": {
          "base_uri": "https://localhost:8080/"
        },
        "id": "OBTzNXn-SOvW",
        "outputId": "340a7fdb-65d2-4c09-ce3c-349906c827e7"
      },
      "execution_count": 168,
      "outputs": [
        {
          "output_type": "execute_result",
          "data": {
            "text/plain": [
              "array([[0.22222222, 0.44444444, 0.5       , 0.27777778, 0.22222222],\n",
              "       [0.33333333, 0.38888889, 0.44444444, 0.55555556, 0.22222222],\n",
              "       [0.38888889, 0.5       , 0.55555556, 0.61111111, 0.38888889],\n",
              "       [0.33333333, 0.44444444, 0.22222222, 0.61111111, 0.5       ],\n",
              "       [0.38888889, 0.44444444, 0.27777778, 0.5       , 0.66666667]])"
            ]
          },
          "metadata": {},
          "execution_count": 168
        }
      ]
    },
    {
      "cell_type": "code",
      "source": [
        "matrix_b"
      ],
      "metadata": {
        "colab": {
          "base_uri": "https://localhost:8080/"
        },
        "id": "eaIQXCjXSaUh",
        "outputId": "947a8f4a-aaee-452e-8c87-65bfb6e7fff7"
      },
      "execution_count": 169,
      "outputs": [
        {
          "output_type": "execute_result",
          "data": {
            "text/plain": [
              "array([[2.22222222, 4.44444444, 5.        , 2.77777778, 2.22222222],\n",
              "       [3.33333333, 3.88888889, 4.44444444, 5.55555556, 2.22222222],\n",
              "       [3.88888889, 5.        , 5.55555556, 6.11111111, 3.88888889],\n",
              "       [3.33333333, 4.44444444, 2.22222222, 6.11111111, 5.        ],\n",
              "       [3.88888889, 4.44444444, 2.77777778, 5.        , 6.66666667]])"
            ]
          },
          "metadata": {},
          "execution_count": 169
        }
      ]
    },
    {
      "cell_type": "code",
      "source": [
        "\n",
        "# Exercise 11\n",
        "inverse_a = np.linalg.inv(matrix_a)\n",
        "rank_a = np.linalg.matrix_rank(matrix_a)\n",
        "condition_number_a = np.linalg.cond(matrix_a)\n",
        "singular_values_a = np.linalg.svd(matrix_a)\n",
        "norm_a = np.linalg.norm(matrix_a)\n",
        "\n",
        "inverse_b = np.linalg.inv(matrix_b)\n",
        "rank_b = np.linalg.matrix_rank(matrix_b)\n",
        "condition_number_b = np.linalg.cond(matrix_b)\n",
        "singular_values_b = np.linalg.svd(matrix_b)\n",
        "norm_b = np.linalg.norm(matrix_b)\n"
      ],
      "metadata": {
        "id": "iJBAKxncMYza"
      },
      "execution_count": 170,
      "outputs": []
    },
    {
      "cell_type": "code",
      "source": [
        "inverse_a"
      ],
      "metadata": {
        "colab": {
          "base_uri": "https://localhost:8080/"
        },
        "id": "_V_cThWLSq7l",
        "outputId": "2b6e7a87-3ee2-4187-87ff-f6984c30feb0"
      },
      "execution_count": 171,
      "outputs": [
        {
          "output_type": "execute_result",
          "data": {
            "text/plain": [
              "array([[  4.03344482,  27.45150502, -28.41471572,  -8.66889632,\n",
              "         12.5819398 ],\n",
              "       [  7.88628763,   7.46488294, -14.98996656,   4.27424749,\n",
              "          0.42140468],\n",
              "       [ -3.04013378,  -9.54180602,  14.29765886,  -2.19732441,\n",
              "         -2.49832776],\n",
              "       [ -4.24414716,  -7.79598662,  11.22742475,   3.88294314,\n",
              "         -5.44816054],\n",
              "       [ -3.16053512, -11.16722408,  12.19063545,   0.21070234,\n",
              "         -0.99331104]])"
            ]
          },
          "metadata": {},
          "execution_count": 171
        }
      ]
    },
    {
      "cell_type": "code",
      "source": [
        "rank_a"
      ],
      "metadata": {
        "colab": {
          "base_uri": "https://localhost:8080/"
        },
        "id": "fmfYf0xxS54i",
        "outputId": "43234de9-0f1f-49f3-e6c2-7021396a8274"
      },
      "execution_count": 172,
      "outputs": [
        {
          "output_type": "execute_result",
          "data": {
            "text/plain": [
              "5"
            ]
          },
          "metadata": {},
          "execution_count": 172
        }
      ]
    },
    {
      "cell_type": "code",
      "source": [
        "\n",
        "condition_number_a"
      ],
      "metadata": {
        "colab": {
          "base_uri": "https://localhost:8080/"
        },
        "id": "1hnjPqWLTHXV",
        "outputId": "1e73d784-d0f2-4cc3-c049-6e9e50c88149"
      },
      "execution_count": 173,
      "outputs": [
        {
          "output_type": "execute_result",
          "data": {
            "text/plain": [
              "113.38644889838343"
            ]
          },
          "metadata": {},
          "execution_count": 173
        }
      ]
    },
    {
      "cell_type": "code",
      "source": [
        "singular_values_a"
      ],
      "metadata": {
        "colab": {
          "base_uri": "https://localhost:8080/"
        },
        "id": "MAwUUBNtTHnx",
        "outputId": "49110f26-a3dd-4584-ef73-a5b3fdaf3c00"
      },
      "execution_count": 174,
      "outputs": [
        {
          "output_type": "execute_result",
          "data": {
            "text/plain": [
              "(array([[-0.34828877, -0.52528695,  0.62152351,  0.43510778, -0.16479776],\n",
              "        [-0.41520834, -0.34438285, -0.53178933, -0.22113896, -0.61424763],\n",
              "        [-0.51856912, -0.28736679, -0.10765014, -0.33366671,  0.72497198],\n",
              "        [-0.45477272,  0.43255852, -0.3423785 ,  0.69000463,  0.11289586],\n",
              "        [-0.48017163,  0.57947177,  0.44955205, -0.41753913, -0.23918967]]),\n",
              " array([2.12726423, 0.44270658, 0.2230075 , 0.08031959, 0.01876119]),\n",
              " array([[-0.35528749, -0.46589431, -0.41424896, -0.54639381, -0.43193157],\n",
              "        [ 0.05931206, -0.13842054, -0.71890108,  0.0931256 ,  0.67218352],\n",
              "        [-0.09107804,  0.283548  ,  0.28428089, -0.77591369,  0.47796197],\n",
              "        [-0.48750782,  0.7674986 , -0.35793526,  0.0871617 , -0.19382262],\n",
              "        [-0.79012265, -0.30712972,  0.32038376,  0.2883439 ,  0.30917564]]))"
            ]
          },
          "metadata": {},
          "execution_count": 174
        }
      ]
    },
    {
      "cell_type": "code",
      "source": [
        "norm_a"
      ],
      "metadata": {
        "colab": {
          "base_uri": "https://localhost:8080/"
        },
        "id": "2btCTugwTdo3",
        "outputId": "149176d5-c1e1-458e-9d18-3a28a0a7afc1"
      },
      "execution_count": 175,
      "outputs": [
        {
          "output_type": "execute_result",
          "data": {
            "text/plain": [
              "2.1858128414340006"
            ]
          },
          "metadata": {},
          "execution_count": 175
        }
      ]
    },
    {
      "cell_type": "code",
      "source": [
        "inverse_b"
      ],
      "metadata": {
        "colab": {
          "base_uri": "https://localhost:8080/"
        },
        "id": "fuFVwMscTiqn",
        "outputId": "8fd09cbe-8cd0-4322-be61-b30f7d5c34f0"
      },
      "execution_count": 176,
      "outputs": [
        {
          "output_type": "execute_result",
          "data": {
            "text/plain": [
              "array([[ 0.40334448,  2.7451505 , -2.84147157, -0.86688963,  1.25819398],\n",
              "       [ 0.78862876,  0.74648829, -1.49899666,  0.42742475,  0.04214047],\n",
              "       [-0.30401338, -0.9541806 ,  1.42976589, -0.21973244, -0.24983278],\n",
              "       [-0.42441472, -0.77959866,  1.12274247,  0.38829431, -0.54481605],\n",
              "       [-0.31605351, -1.11672241,  1.21906355,  0.02107023, -0.0993311 ]])"
            ]
          },
          "metadata": {},
          "execution_count": 176
        }
      ]
    },
    {
      "cell_type": "code",
      "source": [
        "rank_b"
      ],
      "metadata": {
        "colab": {
          "base_uri": "https://localhost:8080/"
        },
        "id": "tCF7ATEoTixo",
        "outputId": "3b80f86a-5998-4b71-a10a-ed65db5c86ae"
      },
      "execution_count": 177,
      "outputs": [
        {
          "output_type": "execute_result",
          "data": {
            "text/plain": [
              "5"
            ]
          },
          "metadata": {},
          "execution_count": 177
        }
      ]
    },
    {
      "cell_type": "code",
      "source": [
        "condition_number_b"
      ],
      "metadata": {
        "colab": {
          "base_uri": "https://localhost:8080/"
        },
        "id": "Ecz-WMVOTi0H",
        "outputId": "59798629-7098-49cb-8cf2-a07fb4a108e8"
      },
      "execution_count": 178,
      "outputs": [
        {
          "output_type": "execute_result",
          "data": {
            "text/plain": [
              "113.3864488983834"
            ]
          },
          "metadata": {},
          "execution_count": 178
        }
      ]
    },
    {
      "cell_type": "code",
      "source": [
        "singular_values_b"
      ],
      "metadata": {
        "colab": {
          "base_uri": "https://localhost:8080/"
        },
        "id": "FleomginTi9u",
        "outputId": "3eeb31a6-f651-4c3b-b43f-eeaf1d2f80eb"
      },
      "execution_count": 179,
      "outputs": [
        {
          "output_type": "execute_result",
          "data": {
            "text/plain": [
              "(array([[-0.34828877, -0.52528695,  0.62152351,  0.43510778, -0.16479776],\n",
              "        [-0.41520834, -0.34438285, -0.53178933, -0.22113896, -0.61424763],\n",
              "        [-0.51856912, -0.28736679, -0.10765014, -0.33366671,  0.72497198],\n",
              "        [-0.45477272,  0.43255852, -0.3423785 ,  0.69000463,  0.11289586],\n",
              "        [-0.48017163,  0.57947177,  0.44955205, -0.41753913, -0.23918967]]),\n",
              " array([21.27264229,  4.42706578,  2.23007499,  0.80319592,  0.18761186]),\n",
              " array([[-0.35528749, -0.46589431, -0.41424896, -0.54639381, -0.43193157],\n",
              "        [ 0.05931206, -0.13842054, -0.71890108,  0.0931256 ,  0.67218352],\n",
              "        [-0.09107804,  0.283548  ,  0.28428089, -0.77591369,  0.47796197],\n",
              "        [-0.48750782,  0.7674986 , -0.35793526,  0.0871617 , -0.19382262],\n",
              "        [-0.79012265, -0.30712972,  0.32038376,  0.2883439 ,  0.30917564]]))"
            ]
          },
          "metadata": {},
          "execution_count": 179
        }
      ]
    },
    {
      "cell_type": "code",
      "source": [
        "norm_b"
      ],
      "metadata": {
        "colab": {
          "base_uri": "https://localhost:8080/"
        },
        "id": "GO34f14MUHKC",
        "outputId": "149625e2-4bf4-4b03-d566-86afc8ed3aab"
      },
      "execution_count": 180,
      "outputs": [
        {
          "output_type": "execute_result",
          "data": {
            "text/plain": [
              "21.858128414340005"
            ]
          },
          "metadata": {},
          "execution_count": 180
        }
      ]
    },
    {
      "cell_type": "code",
      "source": [
        "# Exercise 12\n",
        "column_vector_norm = np.linalg.norm(column_vector)\n",
        "inner_product = np.inner(column_vector, column_vector)\n",
        "outer_product = np.outer(column_vector, column_vector)"
      ],
      "metadata": {
        "id": "yazOR-rJUVw7"
      },
      "execution_count": 181,
      "outputs": []
    },
    {
      "cell_type": "code",
      "source": [
        "column_vector_norm\n"
      ],
      "metadata": {
        "colab": {
          "base_uri": "https://localhost:8080/"
        },
        "id": "9fUvfvMhUpsv",
        "outputId": "2b2bd2ca-37c7-46c0-d46d-539ef852b943"
      },
      "execution_count": 182,
      "outputs": [
        {
          "output_type": "execute_result",
          "data": {
            "text/plain": [
              "15.329709716755891"
            ]
          },
          "metadata": {},
          "execution_count": 182
        }
      ]
    },
    {
      "cell_type": "code",
      "source": [
        "inner_product"
      ],
      "metadata": {
        "colab": {
          "base_uri": "https://localhost:8080/"
        },
        "id": "iVED8RKyU2vR",
        "outputId": "cd6b0d77-02aa-4e98-fe57-0664cdc9bcfb"
      },
      "execution_count": 183,
      "outputs": [
        {
          "output_type": "execute_result",
          "data": {
            "text/plain": [
              "235.0"
            ]
          },
          "metadata": {},
          "execution_count": 183
        }
      ]
    },
    {
      "cell_type": "code",
      "source": [
        "outer_product"
      ],
      "metadata": {
        "colab": {
          "base_uri": "https://localhost:8080/"
        },
        "id": "tNSDWfEiU8E5",
        "outputId": "4b54e471-3dd9-432b-ffe7-67123a670ae7"
      },
      "execution_count": 184,
      "outputs": [
        {
          "output_type": "execute_result",
          "data": {
            "text/plain": [
              "array([[64., 72., 56., 32., 40.],\n",
              "       [72., 81., 63., 36., 45.],\n",
              "       [56., 63., 49., 28., 35.],\n",
              "       [32., 36., 28., 16., 20.],\n",
              "       [40., 45., 35., 20., 25.]])"
            ]
          },
          "metadata": {},
          "execution_count": 184
        }
      ]
    },
    {
      "cell_type": "code",
      "source": [
        "# Exercise 13\n",
        "def derivative(f, a, method='central', h=0.01):\n",
        "    if method == 'central':\n",
        "        return (f(a + h) - f(a - h)) / (2 * h)\n",
        "    elif method == 'forward':\n",
        "        return (f(a + h) - f(a)) / h\n",
        "    elif method == 'backward':\n",
        "        return (f(a) - f(a - h)) / h\n",
        "\n",
        "def func1(x):\n",
        "    return np.exp(x)\n",
        "\n",
        "def func2(x):\n",
        "    return np.cos(x)\n",
        "\n",
        "x_value = 0.5\n",
        "derivative_func1 = derivative(func1, x_value)\n",
        "derivative_func2 = derivative(func2, x_value)"
      ],
      "metadata": {
        "id": "-yxwrNjhU_Fm"
      },
      "execution_count": 185,
      "outputs": []
    },
    {
      "cell_type": "code",
      "source": [
        "derivative_func1"
      ],
      "metadata": {
        "colab": {
          "base_uri": "https://localhost:8080/"
        },
        "id": "rZ_f8ASpVI9q",
        "outputId": "4b4666f3-c16f-4481-e893-5e2191b64ea0"
      },
      "execution_count": 186,
      "outputs": [
        {
          "output_type": "execute_result",
          "data": {
            "text/plain": [
              "1.648748749525375"
            ]
          },
          "metadata": {},
          "execution_count": 186
        }
      ]
    },
    {
      "cell_type": "code",
      "source": [
        "derivative_func2"
      ],
      "metadata": {
        "colab": {
          "base_uri": "https://localhost:8080/"
        },
        "id": "TwyPgzJWVWga",
        "outputId": "10c24f5d-8c10-4415-db08-ee994b3d8593"
      },
      "execution_count": 187,
      "outputs": [
        {
          "output_type": "execute_result",
          "data": {
            "text/plain": [
              "-0.4794175482185081"
            ]
          },
          "metadata": {},
          "execution_count": 187
        }
      ]
    },
    {
      "cell_type": "code",
      "source": [
        "# Exercise 14\n",
        "# Path to the uploaded file in Google Drive\n",
        "file_path = '/content/drive/My Drive/AWS.xlsx'\n",
        "\n",
        "# Load the Excel file into a pandas DataFrame\n",
        "data = pd.read_excel(file_path)\n",
        "\n",
        "# Display the first few rows of the DataFrame\n",
        "data.head()\n"
      ],
      "metadata": {
        "colab": {
          "base_uri": "https://localhost:8080/",
          "height": 206
        },
        "id": "KwBUQm7sUngP",
        "outputId": "89cd6499-a6b1-4b00-b899-feba2f13068c"
      },
      "execution_count": 188,
      "outputs": [
        {
          "output_type": "execute_result",
          "data": {
            "text/plain": [
              "                  created_at  entry_id  Soil Temperature  Soil Moisture  \\\n",
              "0  2022-12-14T14:19:11+05:30     10830             21.06            817   \n",
              "1  2022-12-14T14:20:13+05:30     10831             21.06            817   \n",
              "2  2022-12-14T14:21:15+05:30     10832             21.06            817   \n",
              "3  2022-12-14T14:22:18+05:30     10833             21.06            817   \n",
              "4  2022-12-14T14:23:20+05:30     10834             21.06            817   \n",
              "\n",
              "   Wind Speed  Rainfall  Temperature  Humidity  Pressure  Battery Voltage  \n",
              "0         0.0      0.25        25.38     45.09      1.94             4.14  \n",
              "1         0.0      0.25        25.27     46.52      1.94             4.14  \n",
              "2         0.0      0.25        25.34     45.79      1.94             4.14  \n",
              "3         0.0      0.25        25.13     44.91      1.94             4.15  \n",
              "4         0.0      0.25        24.95     45.12      1.94             4.15  "
            ],
            "text/html": [
              "\n",
              "\n",
              "  <div id=\"df-d74a023b-5ad8-4624-8746-021d563cf6ea\">\n",
              "    <div class=\"colab-df-container\">\n",
              "      <div>\n",
              "<style scoped>\n",
              "    .dataframe tbody tr th:only-of-type {\n",
              "        vertical-align: middle;\n",
              "    }\n",
              "\n",
              "    .dataframe tbody tr th {\n",
              "        vertical-align: top;\n",
              "    }\n",
              "\n",
              "    .dataframe thead th {\n",
              "        text-align: right;\n",
              "    }\n",
              "</style>\n",
              "<table border=\"1\" class=\"dataframe\">\n",
              "  <thead>\n",
              "    <tr style=\"text-align: right;\">\n",
              "      <th></th>\n",
              "      <th>created_at</th>\n",
              "      <th>entry_id</th>\n",
              "      <th>Soil Temperature</th>\n",
              "      <th>Soil Moisture</th>\n",
              "      <th>Wind Speed</th>\n",
              "      <th>Rainfall</th>\n",
              "      <th>Temperature</th>\n",
              "      <th>Humidity</th>\n",
              "      <th>Pressure</th>\n",
              "      <th>Battery Voltage</th>\n",
              "    </tr>\n",
              "  </thead>\n",
              "  <tbody>\n",
              "    <tr>\n",
              "      <th>0</th>\n",
              "      <td>2022-12-14T14:19:11+05:30</td>\n",
              "      <td>10830</td>\n",
              "      <td>21.06</td>\n",
              "      <td>817</td>\n",
              "      <td>0.0</td>\n",
              "      <td>0.25</td>\n",
              "      <td>25.38</td>\n",
              "      <td>45.09</td>\n",
              "      <td>1.94</td>\n",
              "      <td>4.14</td>\n",
              "    </tr>\n",
              "    <tr>\n",
              "      <th>1</th>\n",
              "      <td>2022-12-14T14:20:13+05:30</td>\n",
              "      <td>10831</td>\n",
              "      <td>21.06</td>\n",
              "      <td>817</td>\n",
              "      <td>0.0</td>\n",
              "      <td>0.25</td>\n",
              "      <td>25.27</td>\n",
              "      <td>46.52</td>\n",
              "      <td>1.94</td>\n",
              "      <td>4.14</td>\n",
              "    </tr>\n",
              "    <tr>\n",
              "      <th>2</th>\n",
              "      <td>2022-12-14T14:21:15+05:30</td>\n",
              "      <td>10832</td>\n",
              "      <td>21.06</td>\n",
              "      <td>817</td>\n",
              "      <td>0.0</td>\n",
              "      <td>0.25</td>\n",
              "      <td>25.34</td>\n",
              "      <td>45.79</td>\n",
              "      <td>1.94</td>\n",
              "      <td>4.14</td>\n",
              "    </tr>\n",
              "    <tr>\n",
              "      <th>3</th>\n",
              "      <td>2022-12-14T14:22:18+05:30</td>\n",
              "      <td>10833</td>\n",
              "      <td>21.06</td>\n",
              "      <td>817</td>\n",
              "      <td>0.0</td>\n",
              "      <td>0.25</td>\n",
              "      <td>25.13</td>\n",
              "      <td>44.91</td>\n",
              "      <td>1.94</td>\n",
              "      <td>4.15</td>\n",
              "    </tr>\n",
              "    <tr>\n",
              "      <th>4</th>\n",
              "      <td>2022-12-14T14:23:20+05:30</td>\n",
              "      <td>10834</td>\n",
              "      <td>21.06</td>\n",
              "      <td>817</td>\n",
              "      <td>0.0</td>\n",
              "      <td>0.25</td>\n",
              "      <td>24.95</td>\n",
              "      <td>45.12</td>\n",
              "      <td>1.94</td>\n",
              "      <td>4.15</td>\n",
              "    </tr>\n",
              "  </tbody>\n",
              "</table>\n",
              "</div>\n",
              "      <button class=\"colab-df-convert\" onclick=\"convertToInteractive('df-d74a023b-5ad8-4624-8746-021d563cf6ea')\"\n",
              "              title=\"Convert this dataframe to an interactive table.\"\n",
              "              style=\"display:none;\">\n",
              "\n",
              "  <svg xmlns=\"http://www.w3.org/2000/svg\" height=\"24px\"viewBox=\"0 0 24 24\"\n",
              "       width=\"24px\">\n",
              "    <path d=\"M0 0h24v24H0V0z\" fill=\"none\"/>\n",
              "    <path d=\"M18.56 5.44l.94 2.06.94-2.06 2.06-.94-2.06-.94-.94-2.06-.94 2.06-2.06.94zm-11 1L8.5 8.5l.94-2.06 2.06-.94-2.06-.94L8.5 2.5l-.94 2.06-2.06.94zm10 10l.94 2.06.94-2.06 2.06-.94-2.06-.94-.94-2.06-.94 2.06-2.06.94z\"/><path d=\"M17.41 7.96l-1.37-1.37c-.4-.4-.92-.59-1.43-.59-.52 0-1.04.2-1.43.59L10.3 9.45l-7.72 7.72c-.78.78-.78 2.05 0 2.83L4 21.41c.39.39.9.59 1.41.59.51 0 1.02-.2 1.41-.59l7.78-7.78 2.81-2.81c.8-.78.8-2.07 0-2.86zM5.41 20L4 18.59l7.72-7.72 1.47 1.35L5.41 20z\"/>\n",
              "  </svg>\n",
              "      </button>\n",
              "\n",
              "\n",
              "\n",
              "    <div id=\"df-d3b0bbdb-2d4a-4d70-97e0-e33b96a77da7\">\n",
              "      <button class=\"colab-df-quickchart\" onclick=\"quickchart('df-d3b0bbdb-2d4a-4d70-97e0-e33b96a77da7')\"\n",
              "              title=\"Suggest charts.\"\n",
              "              style=\"display:none;\">\n",
              "\n",
              "<svg xmlns=\"http://www.w3.org/2000/svg\" height=\"24px\"viewBox=\"0 0 24 24\"\n",
              "     width=\"24px\">\n",
              "    <g>\n",
              "        <path d=\"M19 3H5c-1.1 0-2 .9-2 2v14c0 1.1.9 2 2 2h14c1.1 0 2-.9 2-2V5c0-1.1-.9-2-2-2zM9 17H7v-7h2v7zm4 0h-2V7h2v10zm4 0h-2v-4h2v4z\"/>\n",
              "    </g>\n",
              "</svg>\n",
              "      </button>\n",
              "    </div>\n",
              "\n",
              "<style>\n",
              "  .colab-df-quickchart {\n",
              "    background-color: #E8F0FE;\n",
              "    border: none;\n",
              "    border-radius: 50%;\n",
              "    cursor: pointer;\n",
              "    display: none;\n",
              "    fill: #1967D2;\n",
              "    height: 32px;\n",
              "    padding: 0 0 0 0;\n",
              "    width: 32px;\n",
              "  }\n",
              "\n",
              "  .colab-df-quickchart:hover {\n",
              "    background-color: #E2EBFA;\n",
              "    box-shadow: 0px 1px 2px rgba(60, 64, 67, 0.3), 0px 1px 3px 1px rgba(60, 64, 67, 0.15);\n",
              "    fill: #174EA6;\n",
              "  }\n",
              "\n",
              "  [theme=dark] .colab-df-quickchart {\n",
              "    background-color: #3B4455;\n",
              "    fill: #D2E3FC;\n",
              "  }\n",
              "\n",
              "  [theme=dark] .colab-df-quickchart:hover {\n",
              "    background-color: #434B5C;\n",
              "    box-shadow: 0px 1px 3px 1px rgba(0, 0, 0, 0.15);\n",
              "    filter: drop-shadow(0px 1px 2px rgba(0, 0, 0, 0.3));\n",
              "    fill: #FFFFFF;\n",
              "  }\n",
              "</style>\n",
              "\n",
              "    <script>\n",
              "      async function quickchart(key) {\n",
              "        const containerElement = document.querySelector('#' + key);\n",
              "        const charts = await google.colab.kernel.invokeFunction(\n",
              "            'suggestCharts', [key], {});\n",
              "      }\n",
              "    </script>\n",
              "\n",
              "      <script>\n",
              "\n",
              "function displayQuickchartButton(domScope) {\n",
              "  let quickchartButtonEl =\n",
              "    domScope.querySelector('#df-d3b0bbdb-2d4a-4d70-97e0-e33b96a77da7 button.colab-df-quickchart');\n",
              "  quickchartButtonEl.style.display =\n",
              "    google.colab.kernel.accessAllowed ? 'block' : 'none';\n",
              "}\n",
              "\n",
              "        displayQuickchartButton(document);\n",
              "      </script>\n",
              "      <style>\n",
              "    .colab-df-container {\n",
              "      display:flex;\n",
              "      flex-wrap:wrap;\n",
              "      gap: 12px;\n",
              "    }\n",
              "\n",
              "    .colab-df-convert {\n",
              "      background-color: #E8F0FE;\n",
              "      border: none;\n",
              "      border-radius: 50%;\n",
              "      cursor: pointer;\n",
              "      display: none;\n",
              "      fill: #1967D2;\n",
              "      height: 32px;\n",
              "      padding: 0 0 0 0;\n",
              "      width: 32px;\n",
              "    }\n",
              "\n",
              "    .colab-df-convert:hover {\n",
              "      background-color: #E2EBFA;\n",
              "      box-shadow: 0px 1px 2px rgba(60, 64, 67, 0.3), 0px 1px 3px 1px rgba(60, 64, 67, 0.15);\n",
              "      fill: #174EA6;\n",
              "    }\n",
              "\n",
              "    [theme=dark] .colab-df-convert {\n",
              "      background-color: #3B4455;\n",
              "      fill: #D2E3FC;\n",
              "    }\n",
              "\n",
              "    [theme=dark] .colab-df-convert:hover {\n",
              "      background-color: #434B5C;\n",
              "      box-shadow: 0px 1px 3px 1px rgba(0, 0, 0, 0.15);\n",
              "      filter: drop-shadow(0px 1px 2px rgba(0, 0, 0, 0.3));\n",
              "      fill: #FFFFFF;\n",
              "    }\n",
              "  </style>\n",
              "\n",
              "      <script>\n",
              "        const buttonEl =\n",
              "          document.querySelector('#df-d74a023b-5ad8-4624-8746-021d563cf6ea button.colab-df-convert');\n",
              "        buttonEl.style.display =\n",
              "          google.colab.kernel.accessAllowed ? 'block' : 'none';\n",
              "\n",
              "        async function convertToInteractive(key) {\n",
              "          const element = document.querySelector('#df-d74a023b-5ad8-4624-8746-021d563cf6ea');\n",
              "          const dataTable =\n",
              "            await google.colab.kernel.invokeFunction('convertToInteractive',\n",
              "                                                     [key], {});\n",
              "          if (!dataTable) return;\n",
              "\n",
              "          const docLinkHtml = 'Like what you see? Visit the ' +\n",
              "            '<a target=\"_blank\" href=https://colab.research.google.com/notebooks/data_table.ipynb>data table notebook</a>'\n",
              "            + ' to learn more about interactive tables.';\n",
              "          element.innerHTML = '';\n",
              "          dataTable['output_type'] = 'display_data';\n",
              "          await google.colab.output.renderOutput(dataTable, element);\n",
              "          const docLink = document.createElement('div');\n",
              "          docLink.innerHTML = docLinkHtml;\n",
              "          element.appendChild(docLink);\n",
              "        }\n",
              "      </script>\n",
              "    </div>\n",
              "  </div>\n"
            ]
          },
          "metadata": {},
          "execution_count": 188
        }
      ]
    }
  ]
}