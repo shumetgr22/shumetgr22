{
  "nbformat": 4,
  "nbformat_minor": 0,
  "metadata": {
    "colab": {
      "provenance": [],
      "include_colab_link": true
    },
    "kernelspec": {
      "name": "python3",
      "display_name": "Python 3"
    },
    "language_info": {
      "name": "python"
    }
  },
  "cells": [
    {
      "cell_type": "markdown",
      "metadata": {
        "id": "view-in-github",
        "colab_type": "text"
      },
      "source": [
        "<a href=\"https://colab.research.google.com/github/shumetgr22/shumetgr22/blob/main/A22203262_(2).ipynb\" target=\"_parent\"><img src=\"https://colab.research.google.com/assets/colab-badge.svg\" alt=\"Open In Colab\"/></a>"
      ]
    },
    {
      "cell_type": "code",
      "execution_count": null,
      "metadata": {
        "id": "6LMCSzAC-8Bc"
      },
      "outputs": [],
      "source": [
        "# importing neccesary libraries\n",
        "import numpy as np                    # importing numpy libary\n",
        "import pandas as pd                   # importing pandas libary\n",
        "\n",
        "\n"
      ]
    },
    {
      "cell_type": "code",
      "source": [
        "# Exercise 1\n",
        "# Create row and column vectors using input method\n",
        "row_vector = np.array(input(\"Enter space-separated values for row vector: \").split(), dtype=float)          # entering row vectors\n",
        "column_vector = np.array(input(\"Enter space-separated values for column vector: \").split(), dtype=float)    # entering column vectors"
      ],
      "metadata": {
        "id": "teVUM5qi_-P1",
        "colab": {
          "base_uri": "https://localhost:8080/"
        },
        "outputId": "2c7cc6ab-7883-476a-b593-69511b7a33a2"
      },
      "execution_count": null,
      "outputs": [
        {
          "name": "stdout",
          "output_type": "stream",
          "text": [
            "Enter space-separated values for row vector: 2 4 5 6\n",
            "Enter space-separated values for column vector: 7 8 9 10\n"
          ]
        }
      ]
    },
    {
      "cell_type": "code",
      "source": [
        "row_vector                   # printing row vector"
      ],
      "metadata": {
        "id": "sOt3_Oy1O8rk",
        "colab": {
          "base_uri": "https://localhost:8080/"
        },
        "outputId": "e69375b8-3863-4f9c-bb16-6359ffe0df22"
      },
      "execution_count": null,
      "outputs": [
        {
          "output_type": "execute_result",
          "data": {
            "text/plain": [
              "array([2., 4., 5., 6.])"
            ]
          },
          "metadata": {},
          "execution_count": 7
        }
      ]
    },
    {
      "cell_type": "code",
      "source": [
        "\n",
        "column_vector                # printing column vector"
      ],
      "metadata": {
        "id": "IYi_oDMaBzA0",
        "colab": {
          "base_uri": "https://localhost:8080/"
        },
        "outputId": "a49008f0-a502-4d9c-a449-09cd7744ec05"
      },
      "execution_count": null,
      "outputs": [
        {
          "output_type": "execute_result",
          "data": {
            "text/plain": [
              "array([ 7.,  8.,  9., 10.])"
            ]
          },
          "metadata": {},
          "execution_count": 8
        }
      ]
    },
    {
      "cell_type": "code",
      "source": [
        "\n",
        "# Exercise 2\n",
        "# Create a 5x5 matrix using input method\n",
        "a = np.zeros((5, 5))\n",
        "for i in range(5):\n",
        "    a[i] = np.array(input(f\"Enter values for row {i+1}: \").split(), dtype=float)\n"
      ],
      "metadata": {
        "id": "G-AGeOtSBw86",
        "colab": {
          "base_uri": "https://localhost:8080/"
        },
        "outputId": "16ba1ce7-3b7f-4106-ae0b-1b1f87e224d0"
      },
      "execution_count": null,
      "outputs": [
        {
          "name": "stdout",
          "output_type": "stream",
          "text": [
            "Enter values for row 1: 8 7 6 5 1\n",
            "Enter values for row 2: 4 7 8 9 1\n",
            "Enter values for row 3: 2 4 1 5 7\n",
            "Enter values for row 4: 4 5 6 8 7\n",
            "Enter values for row 5: 4 1 7 8 6\n"
          ]
        }
      ]
    },
    {
      "cell_type": "code",
      "source": [
        "a                           # printing the matrix a"
      ],
      "metadata": {
        "id": "JZ9MTtcQDPo0",
        "colab": {
          "base_uri": "https://localhost:8080/"
        },
        "outputId": "d69f4f23-e84e-438f-8982-773f16e3e62b"
      },
      "execution_count": null,
      "outputs": [
        {
          "output_type": "execute_result",
          "data": {
            "text/plain": [
              "array([[8., 7., 6., 5., 1.],\n",
              "       [4., 7., 8., 9., 1.],\n",
              "       [2., 4., 1., 5., 7.],\n",
              "       [4., 5., 6., 8., 7.],\n",
              "       [4., 1., 7., 8., 6.]])"
            ]
          },
          "metadata": {},
          "execution_count": 14
        }
      ]
    },
    {
      "cell_type": "code",
      "source": [
        "# Manually create a 5x5 matrix\n",
        "b = np.array([[1, 2, 3, 4, 5],\n",
        "                     [6, 7, 8, 9, 10],\n",
        "                     [11, 12, 13, 14, 15],\n",
        "                     [16, 17, 18, 19, 20],\n",
        "                     [21, 22, 23, 24, 25]])"
      ],
      "metadata": {
        "id": "2dFLkUd8Cin1"
      },
      "execution_count": null,
      "outputs": []
    },
    {
      "cell_type": "code",
      "source": [
        "b                       # printing the matrix b"
      ],
      "metadata": {
        "id": "r8gyyG3HJgUL",
        "colab": {
          "base_uri": "https://localhost:8080/"
        },
        "outputId": "397e3e4f-aa3f-4acc-9094-b07abc8351a7"
      },
      "execution_count": null,
      "outputs": [
        {
          "output_type": "execute_result",
          "data": {
            "text/plain": [
              "array([[ 1,  2,  3,  4,  5],\n",
              "       [ 6,  7,  8,  9, 10],\n",
              "       [11, 12, 13, 14, 15],\n",
              "       [16, 17, 18, 19, 20],\n",
              "       [21, 22, 23, 24, 25]])"
            ]
          },
          "metadata": {},
          "execution_count": 17
        }
      ]
    },
    {
      "cell_type": "code",
      "source": [
        "# Exercise 3\n",
        "third_row =a[2]                # printing the third row of matrix a\n",
        "third_row\n"
      ],
      "metadata": {
        "id": "75UUGCryAEqc",
        "colab": {
          "base_uri": "https://localhost:8080/"
        },
        "outputId": "eb1d851a-935e-49e9-cf3e-865d034fa9c0"
      },
      "execution_count": null,
      "outputs": [
        {
          "output_type": "execute_result",
          "data": {
            "text/plain": [
              "array([2., 4., 1., 5., 7.])"
            ]
          },
          "metadata": {},
          "execution_count": 19
        }
      ]
    },
    {
      "cell_type": "code",
      "source": [
        "# Exercise 4\n",
        "fourth_column = a[:, 3]      # printing the fourth column of matrix a"
      ],
      "metadata": {
        "id": "NAfjB_JRLZ7n"
      },
      "execution_count": null,
      "outputs": []
    },
    {
      "cell_type": "code",
      "source": [
        "fourth_column"
      ],
      "metadata": {
        "id": "sY-GnHypL7Hp",
        "colab": {
          "base_uri": "https://localhost:8080/"
        },
        "outputId": "062cdaaa-1da6-4c07-8b83-2a06dc5ffc37"
      },
      "execution_count": null,
      "outputs": [
        {
          "output_type": "execute_result",
          "data": {
            "text/plain": [
              "array([5., 9., 5., 8., 8.])"
            ]
          },
          "metadata": {},
          "execution_count": 21
        }
      ]
    },
    {
      "cell_type": "code",
      "source": [
        "# Exercise 5\n",
        "sorted_matrix_row_wise = np.sort(a, axis=1)      # sorting matrix a row wise\n",
        "sorted_matrix_column_wise = np.sort(a, axis=0)   # sorting matrix a column wise"
      ],
      "metadata": {
        "id": "tvizNmQyL4iR"
      },
      "execution_count": null,
      "outputs": []
    },
    {
      "cell_type": "code",
      "source": [
        "sorted_matrix_row_wise                          # printing sorted matrix a row wise"
      ],
      "metadata": {
        "id": "faqGY-MDOb2z",
        "colab": {
          "base_uri": "https://localhost:8080/"
        },
        "outputId": "54ed214f-5351-42d4-85e0-70c6895de0ec"
      },
      "execution_count": null,
      "outputs": [
        {
          "output_type": "execute_result",
          "data": {
            "text/plain": [
              "array([[1., 5., 6., 7., 8.],\n",
              "       [1., 4., 7., 8., 9.],\n",
              "       [1., 2., 4., 5., 7.],\n",
              "       [4., 5., 6., 7., 8.],\n",
              "       [1., 4., 6., 7., 8.]])"
            ]
          },
          "metadata": {},
          "execution_count": 25
        }
      ]
    },
    {
      "cell_type": "code",
      "source": [
        "sorted_matrix_column_wise                       # printing sorted matrix a column wise"
      ],
      "metadata": {
        "id": "QJdai5CoOm-q",
        "colab": {
          "base_uri": "https://localhost:8080/"
        },
        "outputId": "c11fad89-3935-4fb5-d1cc-d74e134bf1eb"
      },
      "execution_count": null,
      "outputs": [
        {
          "output_type": "execute_result",
          "data": {
            "text/plain": [
              "array([[2., 1., 1., 5., 1.],\n",
              "       [4., 4., 6., 5., 1.],\n",
              "       [4., 5., 6., 8., 6.],\n",
              "       [4., 7., 7., 8., 7.],\n",
              "       [8., 7., 8., 9., 7.]])"
            ]
          },
          "metadata": {},
          "execution_count": 26
        }
      ]
    },
    {
      "cell_type": "code",
      "source": [
        "# Exercise 6\n",
        "import numpy as np\n",
        "copy_a = np.copy(a)                       # creating copy of matrix a\n",
        "copy_a [copy_a > 2] *= 10                 # multiplying elements of copy_a matrix by 10 which are greater than 2"
      ],
      "metadata": {
        "id": "qzf83hXxPFku"
      },
      "execution_count": null,
      "outputs": []
    },
    {
      "cell_type": "code",
      "source": [
        "copy_a                                   # printing copy_a matrix"
      ],
      "metadata": {
        "id": "S9IE-Vqzd6sh",
        "colab": {
          "base_uri": "https://localhost:8080/"
        },
        "outputId": "bd410346-7861-41fb-c10a-1af568bbdc84"
      },
      "execution_count": null,
      "outputs": [
        {
          "output_type": "execute_result",
          "data": {
            "text/plain": [
              "array([[80., 70., 60., 50.,  1.],\n",
              "       [40., 70., 80., 90.,  1.],\n",
              "       [ 2., 40.,  1., 50., 70.],\n",
              "       [40., 50., 60., 80., 70.],\n",
              "       [40.,  1., 70., 80., 60.]])"
            ]
          },
          "metadata": {},
          "execution_count": 31
        }
      ]
    },
    {
      "cell_type": "code",
      "source": [
        "# Exercise 7\n",
        "matrix_sum = a + copy_a                 # summing the matrix a and copy_a\n",
        "matrix_sum"
      ],
      "metadata": {
        "id": "Fdu35eOLPF2f",
        "colab": {
          "base_uri": "https://localhost:8080/"
        },
        "outputId": "db9471cc-bbf0-4e4a-9ff1-1629b5e675ae"
      },
      "execution_count": null,
      "outputs": [
        {
          "output_type": "execute_result",
          "data": {
            "text/plain": [
              "array([[88., 77., 66., 55.,  2.],\n",
              "       [44., 77., 88., 99.,  2.],\n",
              "       [ 4., 44.,  2., 55., 77.],\n",
              "       [44., 55., 66., 88., 77.],\n",
              "       [44.,  2., 77., 88., 66.]])"
            ]
          },
          "metadata": {},
          "execution_count": 32
        }
      ]
    },
    {
      "cell_type": "code",
      "source": [
        "# Exercise 8\n",
        "matrix_difference = copy_a-a              # calculating the difference of copy_a and a matrix"
      ],
      "metadata": {
        "id": "1XM4HoCaP1TS"
      },
      "execution_count": null,
      "outputs": []
    },
    {
      "cell_type": "code",
      "source": [
        "matrix_difference                         # printing the difference of copy_a and a matrix"
      ],
      "metadata": {
        "id": "C68SZTbsP3rE",
        "colab": {
          "base_uri": "https://localhost:8080/"
        },
        "outputId": "4b1e2cc6-bfac-4a47-b955-6c55140708f1"
      },
      "execution_count": null,
      "outputs": [
        {
          "output_type": "execute_result",
          "data": {
            "text/plain": [
              "array([[72., 63., 54., 45.,  0.],\n",
              "       [36., 63., 72., 81.,  0.],\n",
              "       [ 0., 36.,  0., 45., 63.],\n",
              "       [36., 45., 54., 72., 63.],\n",
              "       [36.,  0., 63., 72., 54.]])"
            ]
          },
          "metadata": {},
          "execution_count": 34
        }
      ]
    },
    {
      "cell_type": "code",
      "source": [
        "# Exercise 9\n",
        "element_wise_product = a * copy_a                # doing element wise multiplication of matrix copy_a and a matrix\n",
        "matrix_multiplication = np.dot(a, copy_a)        # doing dot product between copy_a and a matrix"
      ],
      "metadata": {
        "id": "u4j3B8SSP_4u"
      },
      "execution_count": null,
      "outputs": []
    },
    {
      "cell_type": "code",
      "source": [
        "element_wise_product                             # printing element wise product copy_a and a matrix"
      ],
      "metadata": {
        "id": "nkS0ycuJQPve",
        "colab": {
          "base_uri": "https://localhost:8080/"
        },
        "outputId": "340230a7-60d8-4738-c6b0-0c7e8f1b965b"
      },
      "execution_count": null,
      "outputs": [
        {
          "output_type": "execute_result",
          "data": {
            "text/plain": [
              "array([[640., 490., 360., 250.,   1.],\n",
              "       [160., 490., 640., 810.,   1.],\n",
              "       [  4., 160.,   1., 250., 490.],\n",
              "       [160., 250., 360., 640., 490.],\n",
              "       [160.,   1., 490., 640., 360.]])"
            ]
          },
          "metadata": {},
          "execution_count": 37
        }
      ]
    },
    {
      "cell_type": "code",
      "source": [
        "matrix_multiplication                          # printing matrix multiplication of copy_a and a matrix"
      ],
      "metadata": {
        "id": "0rtFbM3zQS30",
        "colab": {
          "base_uri": "https://localhost:8080/"
        },
        "outputId": "361f3fe8-2bb0-49df-dcea-4a1c42bfb8e7"
      },
      "execution_count": null,
      "outputs": [
        {
          "output_type": "execute_result",
          "data": {
            "text/plain": [
              "array([[1172., 1541., 1416., 1810.,  845.],\n",
              "       [1016., 1541., 1418., 2030., 1261.],\n",
              "       [ 802.,  717., 1231., 1470.,  846.],\n",
              "       [1132., 1277., 1616., 2150., 1409.],\n",
              "       [ 934., 1036., 1227., 1760., 1415.]])"
            ]
          },
          "metadata": {},
          "execution_count": 38
        }
      ]
    },
    {
      "cell_type": "code",
      "source": [
        "# Exercise 10\n",
        "a /= 18                                # dividing each element of matrix a by 10\n",
        "copy_a /= 18                           # dividing each element of matrix copy_a by 10"
      ],
      "metadata": {
        "id": "Fawtlg9qSN7E"
      },
      "execution_count": null,
      "outputs": []
    },
    {
      "cell_type": "code",
      "source": [
        "a                                      # printing matrix a"
      ],
      "metadata": {
        "id": "OBTzNXn-SOvW",
        "colab": {
          "base_uri": "https://localhost:8080/"
        },
        "outputId": "0e12f977-d418-447e-ddda-62369ccafe0a"
      },
      "execution_count": null,
      "outputs": [
        {
          "output_type": "execute_result",
          "data": {
            "text/plain": [
              "array([[0.44444444, 0.38888889, 0.33333333, 0.27777778, 0.05555556],\n",
              "       [0.22222222, 0.38888889, 0.44444444, 0.5       , 0.05555556],\n",
              "       [0.11111111, 0.22222222, 0.05555556, 0.27777778, 0.38888889],\n",
              "       [0.22222222, 0.27777778, 0.33333333, 0.44444444, 0.38888889],\n",
              "       [0.22222222, 0.05555556, 0.38888889, 0.44444444, 0.33333333]])"
            ]
          },
          "metadata": {},
          "execution_count": 42
        }
      ]
    },
    {
      "cell_type": "code",
      "source": [
        "copy_a                  #printing matrix copy_a"
      ],
      "metadata": {
        "id": "eaIQXCjXSaUh",
        "colab": {
          "base_uri": "https://localhost:8080/"
        },
        "outputId": "f528c194-ea8e-4295-ccdd-6ca6033c2d96"
      },
      "execution_count": null,
      "outputs": [
        {
          "output_type": "execute_result",
          "data": {
            "text/plain": [
              "array([[4.44444444, 3.88888889, 3.33333333, 2.77777778, 0.05555556],\n",
              "       [2.22222222, 3.88888889, 4.44444444, 5.        , 0.05555556],\n",
              "       [0.11111111, 2.22222222, 0.05555556, 2.77777778, 3.88888889],\n",
              "       [2.22222222, 2.77777778, 3.33333333, 4.44444444, 3.88888889],\n",
              "       [2.22222222, 0.05555556, 3.88888889, 4.44444444, 3.33333333]])"
            ]
          },
          "metadata": {},
          "execution_count": 43
        }
      ]
    },
    {
      "cell_type": "code",
      "source": [
        "\n",
        "# Exercise 11\n",
        "inverse_a = np.linalg.inv(a)                            # calculating the inverse of matrix a\n",
        "rank_a = np.linalg.matrix_rank(a)                       # calculating the rank of matrix a\n",
        "condition_number_a = np.linalg.cond(a)                   # calculating the conditional number of matrix a\n",
        "singular_values_a = np.linalg.svd(a)                     # calculating the singular value of matrix a\n",
        "norm_a = np.linalg.norm(a)                              # calculating the norm of matrix a\n",
        "\n",
        "inverse_copy_a = np.linalg.inv(copy_a)                      # calculating the inverse of matrix copy_a\n",
        "rank_copy_a = np.linalg.matrix_rank(copy_a)                 # calculating the rank of matrix copy_a\n",
        "condition_number_copy_a = np.linalg.cond(copy_a)            # calculating the conditional number of matrix copy_a\n",
        "singular_values_copy_a = np.linalg.svd(copy_a)              # calculating the singular values of matrix copy_a\n",
        "norm_copy_a = np.linalg.norm(copy_a)                        # calculating the norm of matrix copy_a\n"
      ],
      "metadata": {
        "id": "iJBAKxncMYza"
      },
      "execution_count": null,
      "outputs": []
    },
    {
      "cell_type": "code",
      "source": [
        "inverse_a                             #printing the inverse of matrix a"
      ],
      "metadata": {
        "id": "_V_cThWLSq7l",
        "colab": {
          "base_uri": "https://localhost:8080/"
        },
        "outputId": "6eeea939-ad30-4d10-f200-2ebe9f614736"
      },
      "execution_count": null,
      "outputs": [
        {
          "output_type": "execute_result",
          "data": {
            "text/plain": [
              "array([[  3.56603774,  -0.80274443,   4.02915952,  -7.90394511,\n",
              "          4.06003431],\n",
              "       [ -0.16981132,   0.07718696,  -1.94511149,   6.29845626,\n",
              "         -5.06346484],\n",
              "       [ -1.18867925,  -2.73241852, -10.34305317,  14.63464837,\n",
              "         -4.35334477],\n",
              "       [ -0.33962264,   5.06346484,   9.20068611, -15.2212693 ,\n",
              "          6.23670669],\n",
              "       [ -0.50943396,  -3.04116638,  -2.5626072 ,   7.44082333,\n",
              "         -2.09948542]])"
            ]
          },
          "metadata": {},
          "execution_count": 45
        }
      ]
    },
    {
      "cell_type": "code",
      "source": [
        "rank_a                          #printing the rank of matrix a"
      ],
      "metadata": {
        "id": "fmfYf0xxS54i",
        "colab": {
          "base_uri": "https://localhost:8080/"
        },
        "outputId": "3c72bce8-2ba6-49b5-accb-61eeaf4e08a0"
      },
      "execution_count": null,
      "outputs": [
        {
          "output_type": "execute_result",
          "data": {
            "text/plain": [
              "5"
            ]
          },
          "metadata": {},
          "execution_count": 46
        }
      ]
    },
    {
      "cell_type": "code",
      "source": [
        "\n",
        "condition_number_a                #printing the conditional number of matrix a"
      ],
      "metadata": {
        "id": "1hnjPqWLTHXV",
        "colab": {
          "base_uri": "https://localhost:8080/"
        },
        "outputId": "e0267716-8bbb-41e0-f144-2c1d66b1af7e"
      },
      "execution_count": null,
      "outputs": [
        {
          "output_type": "execute_result",
          "data": {
            "text/plain": [
              "46.01628716644986"
            ]
          },
          "metadata": {},
          "execution_count": 47
        }
      ]
    },
    {
      "cell_type": "code",
      "source": [
        "singular_values_a                     #printing the singular value of matrix a"
      ],
      "metadata": {
        "id": "MAwUUBNtTHnx",
        "colab": {
          "base_uri": "https://localhost:8080/"
        },
        "outputId": "2d99c5a8-4936-4a49-c418-08b325f7ce00"
      },
      "execution_count": null,
      "outputs": [
        {
          "output_type": "execute_result",
          "data": {
            "text/plain": [
              "(array([[-0.44342728,  0.58313832, -0.41657344,  0.5351037 , -0.0587584 ],\n",
              "        [-0.51200502,  0.4138724 ,  0.28222187, -0.67501826, -0.17680966],\n",
              "        [-0.30253409, -0.51451193, -0.61014191, -0.21700945, -0.47369224],\n",
              "        [-0.50042979, -0.31079235, -0.09065894, -0.05864327,  0.80082462],\n",
              "        [-0.44639249, -0.35685421,  0.60524804,  0.45550219, -0.31556519]]),\n",
              " array([1.50117416, 0.4621153 , 0.27592003, 0.19764319, 0.03262267]),\n",
              " array([[-0.36962902, -0.40141556, -0.48800556, -0.5888883 , -0.34249244],\n",
              "        [ 0.31509525,  0.36188796,  0.23233303, -0.15306292, -0.83207283],\n",
              "        [-0.27496443, -0.65016328,  0.57202061,  0.30667759, -0.28359048],\n",
              "        [ 0.7685492 , -0.47368018,  0.12090315, -0.36817801,  0.18651161],\n",
              "        [-0.31275558,  0.24661195,  0.60501801, -0.63259475,  0.27412331]]))"
            ]
          },
          "metadata": {},
          "execution_count": 48
        }
      ]
    },
    {
      "cell_type": "code",
      "source": [
        "norm_a                          #printing the norm of matrix a"
      ],
      "metadata": {
        "id": "2btCTugwTdo3",
        "colab": {
          "base_uri": "https://localhost:8080/"
        },
        "outputId": "71b40ec9-c0ff-4d01-c220-90504d7a992f"
      },
      "execution_count": null,
      "outputs": [
        {
          "output_type": "execute_result",
          "data": {
            "text/plain": [
              "1.607275126832159"
            ]
          },
          "metadata": {},
          "execution_count": 50
        }
      ]
    },
    {
      "cell_type": "code",
      "source": [
        "inverse_copy_a              #printing the inverse of copy_a matrix"
      ],
      "metadata": {
        "id": "fuFVwMscTiqn",
        "colab": {
          "base_uri": "https://localhost:8080/"
        },
        "outputId": "eaf91dad-5bd1-4654-f007-8b9aff23345d"
      },
      "execution_count": null,
      "outputs": [
        {
          "output_type": "execute_result",
          "data": {
            "text/plain": [
              "array([[ 0.43693461, -0.18304531,  0.30202738, -0.604029  ,  0.34810373],\n",
              "       [-0.05336609,  0.03790299, -0.13585434,  0.49879527, -0.42317337],\n",
              "       [-0.35631573, -0.03254429, -0.84498452,  1.2292277 , -0.44180272],\n",
              "       [ 0.16509247,  0.28322684,  0.72451964, -1.21864285,  0.56900508],\n",
              "       [-0.09482191, -0.21826895, -0.17929827,  0.58513088, -0.1682532 ]])"
            ]
          },
          "metadata": {},
          "execution_count": 51
        }
      ]
    },
    {
      "cell_type": "code",
      "source": [
        "rank_copy_a                        #printing the rank of matrix copy_a"
      ],
      "metadata": {
        "id": "tCF7ATEoTixo",
        "colab": {
          "base_uri": "https://localhost:8080/"
        },
        "outputId": "973ba440-cb2b-4d78-d5b8-6b4c80baa7b9"
      },
      "execution_count": null,
      "outputs": [
        {
          "output_type": "execute_result",
          "data": {
            "text/plain": [
              "5"
            ]
          },
          "metadata": {},
          "execution_count": 52
        }
      ]
    },
    {
      "cell_type": "code",
      "source": [
        "condition_number_copy_a                 #printing the conditional number of matrix copy_a"
      ],
      "metadata": {
        "id": "Ecz-WMVOTi0H",
        "colab": {
          "base_uri": "https://localhost:8080/"
        },
        "outputId": "d9248017-8c37-4874-9ef3-ea92e4989180"
      },
      "execution_count": null,
      "outputs": [
        {
          "output_type": "execute_result",
          "data": {
            "text/plain": [
              "36.74338393677985"
            ]
          },
          "metadata": {},
          "execution_count": 53
        }
      ]
    },
    {
      "cell_type": "code",
      "source": [
        "singular_values_copy_a"
      ],
      "metadata": {
        "id": "FleomginTi9u",
        "colab": {
          "base_uri": "https://localhost:8080/"
        },
        "outputId": "0a23ba78-ed75-41da-9a42-f24a9407cfd0"
      },
      "execution_count": null,
      "outputs": [
        {
          "output_type": "execute_result",
          "data": {
            "text/plain": [
              "(array([[-0.44633045,  0.56288875,  0.2185477 ,  0.62946594,  0.19988726],\n",
              "        [-0.52105009,  0.39394647,  0.02506759, -0.75332107,  0.07205529],\n",
              "        [-0.26344511, -0.56382338,  0.63323878, -0.04778803,  0.45762956],\n",
              "        [-0.5118676 , -0.30212016,  0.09730715,  0.12385853, -0.78860976],\n",
              "        [-0.44484172, -0.34465786, -0.73562795,  0.13658464,  0.35145833]]),\n",
              " array([14.59178351,  5.33084596,  3.13395632,  2.13809083,  0.39712683]),\n",
              " array([[-0.36300377, -0.39707531, -0.49715291, -0.60505905, -0.31193268],\n",
              "        [ 0.35214539,  0.30196233,  0.23419213, -0.17022305, -0.83725178],\n",
              "        [-0.10245897,  0.82452314, -0.53010771, -0.11026631,  0.12841692],\n",
              "        [ 0.79371389, -0.11047938, -0.1442897 , -0.46457716,  0.34808204],\n",
              "        [ 0.32209053, -0.24311694, -0.62941189,  0.613952  , -0.2530918 ]]))"
            ]
          },
          "metadata": {},
          "execution_count": 54
        }
      ]
    },
    {
      "cell_type": "code",
      "source": [
        "norm_copy_a                 #printing the norm of matrix copy_a"
      ],
      "metadata": {
        "id": "GO34f14MUHKC",
        "colab": {
          "base_uri": "https://localhost:8080/"
        },
        "outputId": "a6f636c2-f013-458e-c9b1-2d40e40b979b"
      },
      "execution_count": null,
      "outputs": [
        {
          "output_type": "execute_result",
          "data": {
            "text/plain": [
              "15.99652740093577"
            ]
          },
          "metadata": {},
          "execution_count": 55
        }
      ]
    },
    {
      "cell_type": "code",
      "source": [
        "# Exercise 12\n",
        "column_vector_norm = np.linalg.norm(column_vector)                           # calculating the norm of column vector\n",
        "inner_product = np.inner(column_vector, column_vector)                       # doing inner product of column vectors\n",
        "outer_product = np.outer(column_vector, column_vector)                       # doing outer product of column vectors"
      ],
      "metadata": {
        "id": "yazOR-rJUVw7"
      },
      "execution_count": null,
      "outputs": []
    },
    {
      "cell_type": "code",
      "source": [
        "column_vector_norm                 # printing the column vector norm\n"
      ],
      "metadata": {
        "id": "9fUvfvMhUpsv",
        "colab": {
          "base_uri": "https://localhost:8080/"
        },
        "outputId": "a19cacf9-36a8-4a92-d38e-f25cd3364c41"
      },
      "execution_count": null,
      "outputs": [
        {
          "output_type": "execute_result",
          "data": {
            "text/plain": [
              "17.146428199482248"
            ]
          },
          "metadata": {},
          "execution_count": 57
        }
      ]
    },
    {
      "cell_type": "code",
      "source": [
        "inner_product                  # printing the inner product"
      ],
      "metadata": {
        "id": "iVED8RKyU2vR",
        "colab": {
          "base_uri": "https://localhost:8080/"
        },
        "outputId": "23a16884-1aec-418a-dbcd-a555fe3291b0"
      },
      "execution_count": null,
      "outputs": [
        {
          "output_type": "execute_result",
          "data": {
            "text/plain": [
              "294.0"
            ]
          },
          "metadata": {},
          "execution_count": 58
        }
      ]
    },
    {
      "cell_type": "code",
      "source": [
        "outer_product                 # printing the outer product"
      ],
      "metadata": {
        "id": "tNSDWfEiU8E5",
        "colab": {
          "base_uri": "https://localhost:8080/"
        },
        "outputId": "533612fa-86f1-4110-d4c5-30eb4ce1f2b5"
      },
      "execution_count": null,
      "outputs": [
        {
          "output_type": "execute_result",
          "data": {
            "text/plain": [
              "array([[ 49.,  56.,  63.,  70.],\n",
              "       [ 56.,  64.,  72.,  80.],\n",
              "       [ 63.,  72.,  81.,  90.],\n",
              "       [ 70.,  80.,  90., 100.]])"
            ]
          },
          "metadata": {},
          "execution_count": 59
        }
      ]
    },
    {
      "cell_type": "code",
      "source": [
        "# Exercise 13\n",
        "def derivative(f, a, method='central', h=0.01):                    # defining the function derivative\n",
        "    if method == 'central':\n",
        "        return (f(a + h) - f(a - h)) / (2 * h)\n",
        "    elif method == 'forward':\n",
        "        return (f(a + h) - f(a)) / h\n",
        "    elif method == 'backward':\n",
        "        return (f(a) - f(a - h)) / h\n",
        "\n",
        "def func1(x):                                                   # defining the function func1\n",
        "    return np.exp(x)\n",
        "\n",
        "def func2(x):                                                    # defining the function func2\n",
        "    return np.cos(x)\n",
        "\n",
        "x_value = 0.5\n",
        "derivative_func1 = derivative(func1, x_value)                   # calling the function derivative passing func1 and x_value as argument\n",
        "derivative_func2 = derivative(func2, x_value)                   # calling the function derivative passing func2 and x_value as argument"
      ],
      "metadata": {
        "id": "-yxwrNjhU_Fm"
      },
      "execution_count": null,
      "outputs": []
    },
    {
      "cell_type": "code",
      "source": [
        "derivative_func1                                                # getting the result from derivative function"
      ],
      "metadata": {
        "id": "rZ_f8ASpVI9q",
        "colab": {
          "base_uri": "https://localhost:8080/"
        },
        "outputId": "773b2529-9349-469b-89b9-a88ff4c0d3bf"
      },
      "execution_count": null,
      "outputs": [
        {
          "output_type": "execute_result",
          "data": {
            "text/plain": [
              "1.648748749525375"
            ]
          },
          "metadata": {},
          "execution_count": 61
        }
      ]
    },
    {
      "cell_type": "code",
      "source": [
        "derivative_func2                                                  # getting the result from derivative function"
      ],
      "metadata": {
        "id": "TwyPgzJWVWga",
        "colab": {
          "base_uri": "https://localhost:8080/"
        },
        "outputId": "d065bfea-ec74-42d9-a6a2-94f921dfb966"
      },
      "execution_count": null,
      "outputs": [
        {
          "output_type": "execute_result",
          "data": {
            "text/plain": [
              "-0.4794175482185081"
            ]
          },
          "metadata": {},
          "execution_count": 62
        }
      ]
    },
    {
      "cell_type": "code",
      "source": [
        "# Exercise 14\n",
        "# Path to the uploaded file in Google Drive\n",
        "import io\n",
        "from google.colab import files, drive                                # importing the file and drive from google colab\n",
        "drive.mount('/content/drive')\n",
        "file_path = '/content/drive/My Drive/AWS.xlsx'                      # providing the file path\n",
        "\n",
        "# Load the Excel file into a pandas DataFrame\n",
        "data = pd.read_excel(file_path)                                   # reading the file with pandas library\n",
        "\n",
        "# Display the first few rows of the DataFrame\n",
        "data.head()                                                        # printing the head or first five rows of dataframe\n"
      ],
      "metadata": {
        "id": "KwBUQm7sUngP",
        "colab": {
          "base_uri": "https://localhost:8080/",
          "height": 224
        },
        "outputId": "62d80993-ae09-44e6-9a4d-c2233a0e70fa"
      },
      "execution_count": null,
      "outputs": [
        {
          "output_type": "stream",
          "name": "stdout",
          "text": [
            "Mounted at /content/drive\n"
          ]
        },
        {
          "output_type": "execute_result",
          "data": {
            "text/plain": [
              "                  created_at  entry_id  Soil Temperature  Soil Moisture  \\\n",
              "0  2022-12-14T14:19:11+05:30     10830             21.06            817   \n",
              "1  2022-12-14T14:20:13+05:30     10831             21.06            817   \n",
              "2  2022-12-14T14:21:15+05:30     10832             21.06            817   \n",
              "3  2022-12-14T14:22:18+05:30     10833             21.06            817   \n",
              "4  2022-12-14T14:23:20+05:30     10834             21.06            817   \n",
              "\n",
              "   Wind Speed  Rainfall  Temperature  Humidity  Pressure  Battery Voltage  \n",
              "0         0.0      0.25        25.38     45.09      1.94             4.14  \n",
              "1         0.0      0.25        25.27     46.52      1.94             4.14  \n",
              "2         0.0      0.25        25.34     45.79      1.94             4.14  \n",
              "3         0.0      0.25        25.13     44.91      1.94             4.15  \n",
              "4         0.0      0.25        24.95     45.12      1.94             4.15  "
            ],
            "text/html": [
              "\n",
              "  <div id=\"df-d2a14806-0e1f-4a1e-a3f8-c9b1f6a9d6d6\" class=\"colab-df-container\">\n",
              "    <div>\n",
              "<style scoped>\n",
              "    .dataframe tbody tr th:only-of-type {\n",
              "        vertical-align: middle;\n",
              "    }\n",
              "\n",
              "    .dataframe tbody tr th {\n",
              "        vertical-align: top;\n",
              "    }\n",
              "\n",
              "    .dataframe thead th {\n",
              "        text-align: right;\n",
              "    }\n",
              "</style>\n",
              "<table border=\"1\" class=\"dataframe\">\n",
              "  <thead>\n",
              "    <tr style=\"text-align: right;\">\n",
              "      <th></th>\n",
              "      <th>created_at</th>\n",
              "      <th>entry_id</th>\n",
              "      <th>Soil Temperature</th>\n",
              "      <th>Soil Moisture</th>\n",
              "      <th>Wind Speed</th>\n",
              "      <th>Rainfall</th>\n",
              "      <th>Temperature</th>\n",
              "      <th>Humidity</th>\n",
              "      <th>Pressure</th>\n",
              "      <th>Battery Voltage</th>\n",
              "    </tr>\n",
              "  </thead>\n",
              "  <tbody>\n",
              "    <tr>\n",
              "      <th>0</th>\n",
              "      <td>2022-12-14T14:19:11+05:30</td>\n",
              "      <td>10830</td>\n",
              "      <td>21.06</td>\n",
              "      <td>817</td>\n",
              "      <td>0.0</td>\n",
              "      <td>0.25</td>\n",
              "      <td>25.38</td>\n",
              "      <td>45.09</td>\n",
              "      <td>1.94</td>\n",
              "      <td>4.14</td>\n",
              "    </tr>\n",
              "    <tr>\n",
              "      <th>1</th>\n",
              "      <td>2022-12-14T14:20:13+05:30</td>\n",
              "      <td>10831</td>\n",
              "      <td>21.06</td>\n",
              "      <td>817</td>\n",
              "      <td>0.0</td>\n",
              "      <td>0.25</td>\n",
              "      <td>25.27</td>\n",
              "      <td>46.52</td>\n",
              "      <td>1.94</td>\n",
              "      <td>4.14</td>\n",
              "    </tr>\n",
              "    <tr>\n",
              "      <th>2</th>\n",
              "      <td>2022-12-14T14:21:15+05:30</td>\n",
              "      <td>10832</td>\n",
              "      <td>21.06</td>\n",
              "      <td>817</td>\n",
              "      <td>0.0</td>\n",
              "      <td>0.25</td>\n",
              "      <td>25.34</td>\n",
              "      <td>45.79</td>\n",
              "      <td>1.94</td>\n",
              "      <td>4.14</td>\n",
              "    </tr>\n",
              "    <tr>\n",
              "      <th>3</th>\n",
              "      <td>2022-12-14T14:22:18+05:30</td>\n",
              "      <td>10833</td>\n",
              "      <td>21.06</td>\n",
              "      <td>817</td>\n",
              "      <td>0.0</td>\n",
              "      <td>0.25</td>\n",
              "      <td>25.13</td>\n",
              "      <td>44.91</td>\n",
              "      <td>1.94</td>\n",
              "      <td>4.15</td>\n",
              "    </tr>\n",
              "    <tr>\n",
              "      <th>4</th>\n",
              "      <td>2022-12-14T14:23:20+05:30</td>\n",
              "      <td>10834</td>\n",
              "      <td>21.06</td>\n",
              "      <td>817</td>\n",
              "      <td>0.0</td>\n",
              "      <td>0.25</td>\n",
              "      <td>24.95</td>\n",
              "      <td>45.12</td>\n",
              "      <td>1.94</td>\n",
              "      <td>4.15</td>\n",
              "    </tr>\n",
              "  </tbody>\n",
              "</table>\n",
              "</div>\n",
              "    <div class=\"colab-df-buttons\">\n",
              "\n",
              "  <div class=\"colab-df-container\">\n",
              "    <button class=\"colab-df-convert\" onclick=\"convertToInteractive('df-d2a14806-0e1f-4a1e-a3f8-c9b1f6a9d6d6')\"\n",
              "            title=\"Convert this dataframe to an interactive table.\"\n",
              "            style=\"display:none;\">\n",
              "\n",
              "  <svg xmlns=\"http://www.w3.org/2000/svg\" height=\"24px\" viewBox=\"0 -960 960 960\">\n",
              "    <path d=\"M120-120v-720h720v720H120Zm60-500h600v-160H180v160Zm220 220h160v-160H400v160Zm0 220h160v-160H400v160ZM180-400h160v-160H180v160Zm440 0h160v-160H620v160ZM180-180h160v-160H180v160Zm440 0h160v-160H620v160Z\"/>\n",
              "  </svg>\n",
              "    </button>\n",
              "\n",
              "  <style>\n",
              "    .colab-df-container {\n",
              "      display:flex;\n",
              "      gap: 12px;\n",
              "    }\n",
              "\n",
              "    .colab-df-convert {\n",
              "      background-color: #E8F0FE;\n",
              "      border: none;\n",
              "      border-radius: 50%;\n",
              "      cursor: pointer;\n",
              "      display: none;\n",
              "      fill: #1967D2;\n",
              "      height: 32px;\n",
              "      padding: 0 0 0 0;\n",
              "      width: 32px;\n",
              "    }\n",
              "\n",
              "    .colab-df-convert:hover {\n",
              "      background-color: #E2EBFA;\n",
              "      box-shadow: 0px 1px 2px rgba(60, 64, 67, 0.3), 0px 1px 3px 1px rgba(60, 64, 67, 0.15);\n",
              "      fill: #174EA6;\n",
              "    }\n",
              "\n",
              "    .colab-df-buttons div {\n",
              "      margin-bottom: 4px;\n",
              "    }\n",
              "\n",
              "    [theme=dark] .colab-df-convert {\n",
              "      background-color: #3B4455;\n",
              "      fill: #D2E3FC;\n",
              "    }\n",
              "\n",
              "    [theme=dark] .colab-df-convert:hover {\n",
              "      background-color: #434B5C;\n",
              "      box-shadow: 0px 1px 3px 1px rgba(0, 0, 0, 0.15);\n",
              "      filter: drop-shadow(0px 1px 2px rgba(0, 0, 0, 0.3));\n",
              "      fill: #FFFFFF;\n",
              "    }\n",
              "  </style>\n",
              "\n",
              "    <script>\n",
              "      const buttonEl =\n",
              "        document.querySelector('#df-d2a14806-0e1f-4a1e-a3f8-c9b1f6a9d6d6 button.colab-df-convert');\n",
              "      buttonEl.style.display =\n",
              "        google.colab.kernel.accessAllowed ? 'block' : 'none';\n",
              "\n",
              "      async function convertToInteractive(key) {\n",
              "        const element = document.querySelector('#df-d2a14806-0e1f-4a1e-a3f8-c9b1f6a9d6d6');\n",
              "        const dataTable =\n",
              "          await google.colab.kernel.invokeFunction('convertToInteractive',\n",
              "                                                    [key], {});\n",
              "        if (!dataTable) return;\n",
              "\n",
              "        const docLinkHtml = 'Like what you see? Visit the ' +\n",
              "          '<a target=\"_blank\" href=https://colab.research.google.com/notebooks/data_table.ipynb>data table notebook</a>'\n",
              "          + ' to learn more about interactive tables.';\n",
              "        element.innerHTML = '';\n",
              "        dataTable['output_type'] = 'display_data';\n",
              "        await google.colab.output.renderOutput(dataTable, element);\n",
              "        const docLink = document.createElement('div');\n",
              "        docLink.innerHTML = docLinkHtml;\n",
              "        element.appendChild(docLink);\n",
              "      }\n",
              "    </script>\n",
              "  </div>\n",
              "\n",
              "\n",
              "<div id=\"df-134afb19-aa69-4c28-be38-55804b564ab7\">\n",
              "  <button class=\"colab-df-quickchart\" onclick=\"quickchart('df-134afb19-aa69-4c28-be38-55804b564ab7')\"\n",
              "            title=\"Suggest charts.\"\n",
              "            style=\"display:none;\">\n",
              "\n",
              "<svg xmlns=\"http://www.w3.org/2000/svg\" height=\"24px\"viewBox=\"0 0 24 24\"\n",
              "     width=\"24px\">\n",
              "    <g>\n",
              "        <path d=\"M19 3H5c-1.1 0-2 .9-2 2v14c0 1.1.9 2 2 2h14c1.1 0 2-.9 2-2V5c0-1.1-.9-2-2-2zM9 17H7v-7h2v7zm4 0h-2V7h2v10zm4 0h-2v-4h2v4z\"/>\n",
              "    </g>\n",
              "</svg>\n",
              "  </button>\n",
              "\n",
              "<style>\n",
              "  .colab-df-quickchart {\n",
              "    background-color: #E8F0FE;\n",
              "    border: none;\n",
              "    border-radius: 50%;\n",
              "    cursor: pointer;\n",
              "    display: none;\n",
              "    fill: #1967D2;\n",
              "    height: 32px;\n",
              "    padding: 0 0 0 0;\n",
              "    width: 32px;\n",
              "  }\n",
              "\n",
              "  .colab-df-quickchart:hover {\n",
              "    background-color: #E2EBFA;\n",
              "    box-shadow: 0px 1px 2px rgba(60, 64, 67, 0.3), 0px 1px 3px 1px rgba(60, 64, 67, 0.15);\n",
              "    fill: #174EA6;\n",
              "  }\n",
              "\n",
              "  [theme=dark] .colab-df-quickchart {\n",
              "    background-color: #3B4455;\n",
              "    fill: #D2E3FC;\n",
              "  }\n",
              "\n",
              "  [theme=dark] .colab-df-quickchart:hover {\n",
              "    background-color: #434B5C;\n",
              "    box-shadow: 0px 1px 3px 1px rgba(0, 0, 0, 0.15);\n",
              "    filter: drop-shadow(0px 1px 2px rgba(0, 0, 0, 0.3));\n",
              "    fill: #FFFFFF;\n",
              "  }\n",
              "</style>\n",
              "\n",
              "  <script>\n",
              "    async function quickchart(key) {\n",
              "      const charts = await google.colab.kernel.invokeFunction(\n",
              "          'suggestCharts', [key], {});\n",
              "    }\n",
              "    (() => {\n",
              "      let quickchartButtonEl =\n",
              "        document.querySelector('#df-134afb19-aa69-4c28-be38-55804b564ab7 button');\n",
              "      quickchartButtonEl.style.display =\n",
              "        google.colab.kernel.accessAllowed ? 'block' : 'none';\n",
              "    })();\n",
              "  </script>\n",
              "</div>\n",
              "    </div>\n",
              "  </div>\n"
            ]
          },
          "metadata": {},
          "execution_count": 63
        }
      ]
    }
  ]
}