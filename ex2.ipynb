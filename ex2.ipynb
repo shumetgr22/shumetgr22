{
  "nbformat": 4,
  "nbformat_minor": 0,
  "metadata": {
    "colab": {
      "provenance": []
    },
    "kernelspec": {
      "name": "python3",
      "display_name": "Python 3"
    },
    "language_info": {
      "name": "python"
    }
  },
  "cells": [
    {
      "cell_type": "code",
      "execution_count": 2,
      "metadata": {
        "id": "rjBrr8FpIO0v",
        "colab": {
          "base_uri": "https://localhost:8080/"
        },
        "outputId": "ef2f4823-894e-4b4e-d6ea-cf298599cf14"
      },
      "outputs": [
        {
          "output_type": "stream",
          "name": "stdout",
          "text": [
            "45\n"
          ]
        }
      ],
      "source": [
        "a=int(45)\n",
        "print(a)"
      ]
    },
    {
      "cell_type": "code",
      "source": [
        "a=[[1,2,5],[4,2,6],[6,7,8]]\n",
        "print(a)\n"
      ],
      "metadata": {
        "colab": {
          "base_uri": "https://localhost:8080/"
        },
        "id": "ZxMqxtVeVsXp",
        "outputId": "87e1a370-c31b-4817-aa4a-bfb5c9f882f1"
      },
      "execution_count": 3,
      "outputs": [
        {
          "output_type": "stream",
          "name": "stdout",
          "text": [
            "[[1, 2, 5], [4, 2, 6], [6, 7, 8]]\n"
          ]
        }
      ]
    },
    {
      "cell_type": "code",
      "source": [
        "#3x3 matrix\n",
        "import numpy as np\n",
        "\n",
        "a=[[1,2,5],[4,2,6],[6,7,8]]\n",
        "print(a)"
      ],
      "metadata": {
        "colab": {
          "base_uri": "https://localhost:8080/"
        },
        "id": "zoYcq-nYaAHD",
        "outputId": "f3b0ad74-aacc-483a-8046-978833724164"
      },
      "execution_count": 12,
      "outputs": [
        {
          "output_type": "stream",
          "name": "stdout",
          "text": [
            "[[1, 2, 5], [4, 2, 6], [6, 7, 8]]\n"
          ]
        }
      ]
    },
    {
      "cell_type": "code",
      "source": [
        "m = np.array(a)\n",
        "print(m)"
      ],
      "metadata": {
        "colab": {
          "base_uri": "https://localhost:8080/"
        },
        "id": "izr-SoiQaojh",
        "outputId": "a8443082-037a-45e1-8e30-befd18a0d606"
      },
      "execution_count": 13,
      "outputs": [
        {
          "output_type": "stream",
          "name": "stdout",
          "text": [
            "[[1 2 5]\n",
            " [4 2 6]\n",
            " [6 7 8]]\n"
          ]
        }
      ]
    },
    {
      "cell_type": "code",
      "source": [
        "b=m[0:2,0:2]\n",
        "print(b)"
      ],
      "metadata": {
        "colab": {
          "base_uri": "https://localhost:8080/"
        },
        "id": "Xu00G3lbazrs",
        "outputId": "1d245154-d252-434a-8704-b1158b43b216"
      },
      "execution_count": 14,
      "outputs": [
        {
          "output_type": "stream",
          "name": "stdout",
          "text": [
            "[[1 2]\n",
            " [4 2]]\n"
          ]
        }
      ]
    },
    {
      "cell_type": "code",
      "source": [
        "#3x3 matrix\n",
        "import numpy as np\n",
        "a=[[1,2,5],[4,2,6],[6,7,6]]"
      ],
      "metadata": {
        "id": "1xq0o8pmb_dg"
      },
      "execution_count": 17,
      "outputs": []
    },
    {
      "cell_type": "code",
      "source": [
        "print(a)"
      ],
      "metadata": {
        "id": "pydOokIkcOXb",
        "outputId": "5be818e1-b83a-49ba-b12e-18795ac551bc",
        "colab": {
          "base_uri": "https://localhost:8080/"
        }
      },
      "execution_count": 18,
      "outputs": [
        {
          "output_type": "stream",
          "name": "stdout",
          "text": [
            "[[1, 2, 5], [4, 2, 6], [6, 7, 6]]\n"
          ]
        }
      ]
    },
    {
      "cell_type": "code",
      "source": [
        "m=np.array(a)"
      ],
      "metadata": {
        "id": "CpnjgTNWcYD7"
      },
      "execution_count": 19,
      "outputs": []
    },
    {
      "cell_type": "code",
      "source": [
        "print(m)"
      ],
      "metadata": {
        "id": "7NIsj9PTcj2j",
        "outputId": "26f0e07f-a95a-4c0c-e09e-b815a837f2a5",
        "colab": {
          "base_uri": "https://localhost:8080/"
        }
      },
      "execution_count": 20,
      "outputs": [
        {
          "output_type": "stream",
          "name": "stdout",
          "text": [
            "[[1 2 5]\n",
            " [4 2 6]\n",
            " [6 7 6]]\n"
          ]
        }
      ]
    },
    {
      "cell_type": "code",
      "source": [
        "b=m[0:2,0:2]\n",
        "print(b)"
      ],
      "metadata": {
        "id": "BNAuK9IscpT3",
        "outputId": "57b1bd38-0f81-4101-cfcc-891f91c2e899",
        "colab": {
          "base_uri": "https://localhost:8080/"
        }
      },
      "execution_count": 22,
      "outputs": [
        {
          "output_type": "stream",
          "name": "stdout",
          "text": [
            "[[1 2]\n",
            " [4 2]]\n"
          ]
        }
      ]
    }
  ]
}